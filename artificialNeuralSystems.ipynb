{
 "cells": [
  {
   "cell_type": "code",
   "execution_count": null,
   "id": "1e2d74f9-4a88-4f86-972b-01c0f2034745",
   "metadata": {},
   "outputs": [],
   "source": [
    "import math"
   ]
  },
  {
   "cell_type": "markdown",
   "id": "8374d1f2-1a97-4331-8b97-fbf36e276500",
   "metadata": {},
   "source": [
    "## Perceptron Learning Rule\n",
    "Wk+1 = Wk + c.r.Xk"
   ]
  },
  {
   "cell_type": "code",
   "execution_count": null,
   "id": "018b1099-a7a2-4ef0-8be4-8e321e8b8588",
   "metadata": {},
   "outputs": [],
   "source": [
    "def f_net(net):\n",
    "    if net > 0:\n",
    "        return 1\n",
    "    return -1"
   ]
  },
  {
   "cell_type": "code",
   "execution_count": null,
   "id": "b972ba5e-76a8-4e29-8168-48a7e84ef1f8",
   "metadata": {},
   "outputs": [],
   "source": [
    "def get_updated_weight(intial_weight, c, r, x):\n",
    "    x_list = []\n",
    "    weight_list = []\n",
    "    result = c * r\n",
    "    for val in x:\n",
    "        x_list.append(round(result*val, 2))\n",
    "        \n",
    "    for w in range(len(intial_weight)):\n",
    "        weight_list.append(round(x_list[w]+intial_weight[w], 2))\n",
    "        \n",
    "    return weight_list \n",
    "    "
   ]
  },
  {
   "cell_type": "code",
   "execution_count": null,
   "id": "4ce0c7fb-9d4e-4cba-9752-8fa0b0bcea07",
   "metadata": {},
   "outputs": [],
   "source": [
    "d_samples=[-1, -1, 1]\n",
    "x_samples=[[1, -2, 0, -1],\n",
    "          [0, 1.5, -0.5, -1],\n",
    "          [-1, 1, 0.5, -1]]\n",
    "intial_weight = [1, -1, 0, 0.5]\n",
    "\n",
    "learning_constant = 0.1\n",
    "neuron_output=0\n",
    "net_value=0\n",
    "error = 0\n",
    "total_error=0\n",
    "total_weight=0\n",
    "max_error = -1\n",
    "epoches = 0\n",
    "\n"
   ]
  },
  {
   "cell_type": "code",
   "execution_count": null,
   "id": "6ea8e3a3-1a93-45c1-9d82-4cb43a0ed030",
   "metadata": {},
   "outputs": [],
   "source": [
    "def perceptron_learning(d_samples, x_samples, intial_weight, learning_rate=0.1,neuron_output=0, \n",
    "                        net_value=0, error=0, total_error=0, total_weight=0, max_error=-1, epoches=0):\n",
    "    \n",
    "    while total_error > max_error:\n",
    "        total_error = 0\n",
    "        print(\"Epoches :\", epoches)\n",
    "        # Number of steps\n",
    "        for i in range(len(d_samples)):\n",
    "            print(\"Step\", i+1)\n",
    "            print(f\"X samples : {x_samples[i]}\")\n",
    "            net_value=0\n",
    "            for j in range(len(intial_weight)):\n",
    "                #print(intial_weight[j], x_samples[i][j])\n",
    "                net_value += round(intial_weight[j] * x_samples[i][j], 2)\n",
    "\n",
    "            print(f\"Net Value is : {net_value}\")\n",
    "            f_net_value = f_net(net_value)\n",
    "            print(\"f net value: \", f_net_value)\n",
    "\n",
    "            neuron_output = d_samples[i] - f_net_value\n",
    "            print(neuron_output)\n",
    "\n",
    "            ## Wk+1 = Wk + c.r.Xk\n",
    "            total_weight = get_updated_weight(intial_weight, learning_constant, neuron_output, x_samples[i])\n",
    "\n",
    "            error = abs(neuron_output)\n",
    "\n",
    "            if total_error != 0:\n",
    "                intial_weight = total_weight\n",
    "            print(f\"Intial Weight is : {intial_weight}\")\n",
    "\n",
    "            total_error = total_error + error\n",
    "\n",
    "            print(\"--------------------------\")\n",
    "        \n",
    "        print(f\"Total Error is : {total_error}\")\n",
    "        epoches = epoches + 1\n",
    "        print(\"****************************************\")\n",
    "    "
   ]
  },
  {
   "cell_type": "code",
   "execution_count": null,
   "id": "cf089b93-a67a-4e94-be7f-cbdb849d7d4b",
   "metadata": {
    "scrolled": true,
    "tags": []
   },
   "outputs": [],
   "source": [
    "perceptron_learning(d_samples, x_samples, intial_weight)"
   ]
  },
  {
   "cell_type": "markdown",
   "id": "0bf2ab29-04c9-4edd-a899-465b8b2617d4",
   "metadata": {},
   "source": [
    "## Delta Learning Rule"
   ]
  },
  {
   "cell_type": "code",
   "execution_count": null,
   "id": "656a111b-e63b-41e9-80ad-637b2e958a8c",
   "metadata": {},
   "outputs": [],
   "source": [
    "def normalized_function(x, mean, std):\n",
    "    if std == 0.0:\n",
    "        return x\n",
    "    return (x - mean) // std"
   ]
  },
  {
   "cell_type": "code",
   "execution_count": null,
   "id": "8d00a14a-174b-4c06-bfda-4a4f0af1d2d9",
   "metadata": {},
   "outputs": [],
   "source": [
    "def sigmoid_function(lambda_value, net):\n",
    "    exp = - lambda_value * net\n",
    "    return (2 / (1 + math.exp(exp))) - 1"
   ]
  },
  {
   "cell_type": "code",
   "execution_count": null,
   "id": "cf8a73eb-7757-4a13-8f33-5ae91bb6139d",
   "metadata": {},
   "outputs": [],
   "source": [
    "value_size = len(x_samples) * len(x_samples[0])"
   ]
  },
  {
   "cell_type": "code",
   "execution_count": null,
   "id": "41a58a1f-b688-43dd-912f-253ac7515644",
   "metadata": {},
   "outputs": [],
   "source": [
    "def transpose(x_values):\n",
    "    x_list = []\n",
    "    x_list_samples = []\n",
    "    for i in range(len(x_values[0])):\n",
    "        x_list = []\n",
    "        for j in range(len(x_values)):\n",
    "            x_list.append(x_values[j][i])\n",
    "        x_list_samples.append(x_list)\n",
    "    return x_list_samples"
   ]
  },
  {
   "cell_type": "code",
   "execution_count": null,
   "id": "37479c60-beb2-4c35-9926-7722b20af85a",
   "metadata": {},
   "outputs": [],
   "source": [
    "def mean_val(value):\n",
    "    return round(sum(value) / len(value), 2)"
   ]
  },
  {
   "cell_type": "code",
   "execution_count": null,
   "id": "03402e62-04b4-455c-8079-5d5e80dcb264",
   "metadata": {},
   "outputs": [],
   "source": [
    "def sum_square_divation(x_samples, row, mean):\n",
    "    sum_square_div = 0\n",
    "    for column in range(len(x_samples[row])):\n",
    "            sum_square_div += (x_samples[row][column] - mean) ** 2\n",
    "    return sum_square_div"
   ]
  },
  {
   "cell_type": "code",
   "execution_count": null,
   "id": "f799184a-b013-4789-901c-66d03cd8be8f",
   "metadata": {},
   "outputs": [],
   "source": [
    "def varyans_val(sum_square, value_size):\n",
    "    return round(sum_square / value_size, 2)"
   ]
  },
  {
   "cell_type": "code",
   "execution_count": null,
   "id": "c080d1f4-3244-49f8-a5bf-149a3e038bae",
   "metadata": {},
   "outputs": [],
   "source": [
    "def standart_divation(varyans):\n",
    "    return varyans ** 1/2"
   ]
  },
  {
   "cell_type": "code",
   "execution_count": null,
   "id": "f4bffc65-58ff-4bd4-acc3-3c68cd3d41bc",
   "metadata": {},
   "outputs": [],
   "source": [
    "def normalized_dataset(x_samples):\n",
    "    x_list_samples = transpose(x_samples)\n",
    "    new_x_samples = []\n",
    "\n",
    "    for row in range(len(x_list_samples)):\n",
    "        mean = mean_val(x_list_samples[row])\n",
    "        sum_square_div = sum_square_divation(x_list_samples, row, mean)\n",
    "        varyans = varyans_val(sum_square_div, value_size)\n",
    "        standart_div = standart_divation(varyans)\n",
    "        new_list = []\n",
    "        for column_std in range(len(x_list_samples[row])):\n",
    "            new_list.append(normalized_function(x_list_samples[row][column_std], mean, standart_div))\n",
    "        new_x_samples.append(new_list)\n",
    "    return transpose(new_x_samples)\n"
   ]
  },
  {
   "cell_type": "code",
   "execution_count": null,
   "id": "46daa1c5-1c6b-409b-bf41-d013bde1e248",
   "metadata": {},
   "outputs": [],
   "source": [
    "normalized_dataset(x_samples)"
   ]
  },
  {
   "cell_type": "code",
   "execution_count": null,
   "id": "6deef169-6907-4e6c-8c07-0c102a981dde",
   "metadata": {},
   "outputs": [],
   "source": [
    "def f_net_function(lambda_value, net):\n",
    "    return round(1/2 * (1 - sigmoid_function(lambda_value, net) ** 2), 3)"
   ]
  },
  {
   "cell_type": "code",
   "execution_count": null,
   "id": "b9da3316-91fc-45aa-837b-fccd1ef5d596",
   "metadata": {},
   "outputs": [],
   "source": [
    "def forward(intial_weight, x_samples, d_samples, n, m, step):\n",
    "    net = 0\n",
    "    for i in range(n): \n",
    "        #print(\"X samples:\", x_samples[step][i])\n",
    "        net += round(intial_weight[i] * x_samples[step][i+1], 3)\n",
    "    print(\"net:\",net)\n",
    "    net += round(intial_weight[n], 3)\n",
    "    f_net = f_net_function(lambda_val, net)\n",
    "    error = 1/2 * (d_samples[step] - f_net) ** 2\n",
    "    return error, f_net"
   ]
  },
  {
   "cell_type": "code",
   "execution_count": null,
   "id": "86f8e6c1-77d1-4c9e-8326-927e97d663fa",
   "metadata": {},
   "outputs": [],
   "source": [
    "def backward(intial_weight,x_samples, d_samples, n, m, step, learn_constant,f_net):\n",
    "    for i in range(n):\n",
    "        intial_weight[i] += round(learn_constant*(d_samples[step] - f_net) * f_net * x_samples[step][i+1], 3)\n",
    "    intial_weight[n] += round(learn_constant * (d_samples[step] - f_net) * f_net, 3)\n",
    "    return intial_weight"
   ]
  },
  {
   "cell_type": "code",
   "execution_count": null,
   "id": "49aadbea-7c08-42d5-bf1d-7b64f7368f77",
   "metadata": {},
   "outputs": [],
   "source": [
    "def delta_function(intial_weight, x_samples, d_samples, lambda_val, learn_constant, max_error=3, max_epoch=100):\n",
    "    total_error = 0\n",
    "    #x_samples = normalized_dataset(x_samples)\n",
    "    x_samples = normalized_dataset(x_samples)\n",
    "    m = len(x_samples)\n",
    "    n = len(intial_weight) - 1\n",
    "    epoch = 0\n",
    "    while total_error < max_error or epoch < max_epoch:\n",
    "        print(\"Epoch:\", epoch + 1)\n",
    "        total_error = 0\n",
    "        for step in range(m):\n",
    "            error, f_net = forward(intial_weight, x_samples, d_samples, n, m, step)\n",
    "            print(\"f net:\", f_net)\n",
    "            intial_weight = backward(intial_weight, x_samples, d_samples, n, m, step, learn_constant, f_net)\n",
    "            print(intial_weight)\n",
    "            total_error += round(error, 3)\n",
    "        print(\"Total Error:\", total_error)\n",
    "        print(\"---------------------------------------------\")\n",
    "        epoch += 1\n",
    "    return total_error\n"
   ]
  },
  {
   "cell_type": "code",
   "execution_count": null,
   "id": "0c0e0f63-fdf4-43b5-ba7e-72419e46f33a",
   "metadata": {
    "scrolled": true,
    "tags": []
   },
   "outputs": [],
   "source": [
    "intial_weight = [1, -1, 0, 0.5]\n",
    "lambda_val = 1\n",
    "learn_constant = 0.1\n",
    "max_error = 1\n",
    "max_epoch =  300\n",
    "delta_function(intial_weight, x_samples, d_samples, lambda_val, learn_constant, max_error, max_epoch)"
   ]
  },
  {
   "cell_type": "markdown",
   "id": "5e4cd016-239f-4a2a-b09d-dc4ce71fcdcb",
   "metadata": {},
   "source": [
    "## Multi Category Single Layer Nearon"
   ]
  },
  {
   "cell_type": "markdown",
   "id": "03b38367-66f1-4152-9aa9-20f05c652416",
   "metadata": {
    "tags": []
   },
   "source": [
    "### Formule\n",
    "* net = Wk + b\n",
    "* out = f(net)\n",
    "* Error = 1/2 * (di - oi) --> Mean Square Error\n",
    "* W = c * (d - o) * y\n"
   ]
  },
  {
   "cell_type": "code",
   "execution_count": null,
   "id": "24ae1b39-b3f4-466d-a390-d3052089bd0e",
   "metadata": {},
   "outputs": [],
   "source": [
    "def transpose(x_values):\n",
    "    x_list = []\n",
    "    x_list_samples = []\n",
    "    for i in range(len(x_values[0])):\n",
    "        x_list = []\n",
    "        for j in range(len(x_values)):\n",
    "            x_list.append(x_values[j][i])\n",
    "        x_list_samples.append(x_list)\n",
    "    return x_list_samples"
   ]
  },
  {
   "cell_type": "code",
   "execution_count": null,
   "id": "c023a3b7-3908-401a-b61d-7a6452d30975",
   "metadata": {},
   "outputs": [],
   "source": [
    "def mean_square_error(d, out):\n",
    "    error = (d - out) ** 2\n",
    "    return round(1/2 * error, 3)"
   ]
  },
  {
   "cell_type": "code",
   "execution_count": null,
   "id": "5c6c3890-a56d-4af2-91d5-21798971cbcc",
   "metadata": {},
   "outputs": [],
   "source": [
    "def TLU(t):\n",
    "    if t > 0:\n",
    "        return 1\n",
    "    return -1"
   ]
  },
  {
   "cell_type": "code",
   "execution_count": null,
   "id": "e1d295dd-f6af-4fe7-be30-cc1d90c36065",
   "metadata": {},
   "outputs": [],
   "source": [
    "def control(d_list, out_list, step):\n",
    "    for j in range(len(out_list)):\n",
    "        if out_list[j] != d_list[step][j]:\n",
    "            return j"
   ]
  },
  {
   "cell_type": "code",
   "execution_count": null,
   "id": "a302d847-a359-4fd4-aa89-79b284ca7398",
   "metadata": {},
   "outputs": [],
   "source": [
    "def feed_forward(K, J, w, x, d, b, step):\n",
    "    t = 0\n",
    "    error = 0\n",
    "    out = []\n",
    "    net = 0\n",
    "    print(\"W value:\",w)\n",
    "    print(\"x value:\",x[step])\n",
    "    for k in range(K):\n",
    "        t=0\n",
    "        for j in range(J):\n",
    "            t += w[k][j] * x[step][j]\n",
    "        net = t + b\n",
    "        out.append(TLU(net))\n",
    "        error = mean_square_error(d[step][k], out[k])  \n",
    "    return error, out\n"
   ]
  },
  {
   "cell_type": "code",
   "execution_count": null,
   "id": "2b45b96c-a8cb-4be8-8493-f3ce7d7f5c42",
   "metadata": {},
   "outputs": [],
   "source": [
    "def updated_weight_values(w, x):\n",
    "    wight_value_list = []\n",
    "    for i in range(len(w)):\n",
    "        wight_value_list.append(w[i] - x[i])\n",
    "    return wight_value_list"
   ]
  },
  {
   "cell_type": "code",
   "execution_count": null,
   "id": "3247073a-b660-402a-b847-3313509d13a4",
   "metadata": {},
   "outputs": [],
   "source": [
    "def single_layer_backward(d, out_list, w, x, K, step):\n",
    "    S = 0\n",
    "    index = control(d, out_list, step)\n",
    "    wight_value_list = updated_weight_values(w[index], x[step])\n",
    "    for k in range(K):\n",
    "        w[index][k] = wight_value_list[k]\n",
    "\n",
    "    return w\n"
   ]
  },
  {
   "cell_type": "code",
   "execution_count": null,
   "id": "5a5803ef-c600-450b-bd71-cd07db1ab0ae",
   "metadata": {},
   "outputs": [],
   "source": [
    "        \"\"\"\n",
    "        S = mean_square_error(d[step][k] - out)\n",
    "        for j in range(J):\n",
    "            w[k][j] += S[k] * y[j]\n",
    "        b[k] += S[k]\n",
    "        \"\"\""
   ]
  },
  {
   "cell_type": "code",
   "execution_count": null,
   "id": "638023f1-5016-4d44-88ce-171927fe4ca5",
   "metadata": {},
   "outputs": [],
   "source": [
    "def single_layer_function(P, K, J, w, x, d, b):\n",
    "    total_error = 0\n",
    "    flag = True\n",
    "    w_list = []\n",
    "    w_list.append(w)\n",
    "    while flag:\n",
    "        w_trans = transpose(w)\n",
    "        x_trans = transpose(x)\n",
    "        for step in range(P):    \n",
    "            error, out_list = feed_forward(K, J, w_trans, x_trans, d, b, step)\n",
    "            print(\"out_list:\",out_list)\n",
    "            w = single_layer_backward(d, out_list, w_trans, x_trans, K, step)\n",
    "            print(f\"New Wight Values is {w}\")\n",
    "            w_list.append(w)\n",
    "            \n",
    "        total_error += error\n",
    "        print(f\"Total Error is {total_error}\")\n",
    "        if total_error == 0.0:\n",
    "            flag = False\n",
    "    return w_list"
   ]
  },
  {
   "cell_type": "markdown",
   "id": "14d04140-5902-4ecd-8e47-d9d64c5ca866",
   "metadata": {},
   "source": [
    "### Intial Value"
   ]
  },
  {
   "cell_type": "code",
   "execution_count": null,
   "id": "d415c0a9-b547-47f8-8900-ab76ac1dc29c",
   "metadata": {},
   "outputs": [],
   "source": [
    "x_list = [[10, 2, -5],\n",
    "          [2, -5, 5],\n",
    "          [-1, -1, -1]]\n",
    "d_list = [[1, -1, -1],\n",
    "          [-1, 1, -1],\n",
    "          [-1, -1, 1]]\n",
    "w_list = [[1, 0, 1],\n",
    "          [-2, -1, 3],\n",
    "          [0, 2, -1]]\n",
    "c = 1/2\n",
    "bias = -1"
   ]
  },
  {
   "cell_type": "code",
   "execution_count": null,
   "id": "dd198c34-1485-4017-bfe4-077810a529ee",
   "metadata": {},
   "outputs": [],
   "source": [
    "new_w_list = single_layer_function(3, 3, 3, w_list, x_list, d_list, bias)\n",
    "new_w_list"
   ]
  },
  {
   "cell_type": "markdown",
   "id": "9aca42f6-0bc1-401b-8a45-f557a55ed017",
   "metadata": {
    "tags": []
   },
   "source": [
    "### Single Layer plot"
   ]
  },
  {
   "cell_type": "code",
   "execution_count": null,
   "id": "ecede637-81bd-4a0e-aeae-071f6289989e",
   "metadata": {},
   "outputs": [],
   "source": []
  },
  {
   "cell_type": "code",
   "execution_count": null,
   "id": "c8773b9c-8b71-4a20-9c34-0261c116c6f0",
   "metadata": {},
   "outputs": [],
   "source": []
  },
  {
   "cell_type": "code",
   "execution_count": null,
   "id": "8a96a7db-27c2-4281-ac9e-3d6145e5883b",
   "metadata": {},
   "outputs": [],
   "source": [
    "import tkinter as tk\n",
    "from tkinter import *\n",
    "from tkinter.ttk import *\n",
    "import time\n",
    "import numpy as np"
   ]
  },
  {
   "cell_type": "code",
   "execution_count": null,
   "id": "963883fd-1a64-4aa9-b94f-1a112931aa16",
   "metadata": {},
   "outputs": [],
   "source": [
    "def calculate_eksen(X1, v):\n",
    "    for j in range(len(v)):\n",
    "        if v[1] != 0:\n",
    "            X2 = -1 * (v[0] * X1 + v[2]) / v[1]\n",
    "        else:\n",
    "            v[1] = 1\n",
    "            return calculate_eksen(X1, v)\n",
    "    return X2"
   ]
  },
  {
   "cell_type": "code",
   "execution_count": null,
   "id": "e6581f67-bae4-410a-ad26-e382a4d256f5",
   "metadata": {},
   "outputs": [],
   "source": [
    "def draw_line(v):\n",
    "    try:\n",
    "        global line_ids\n",
    "\n",
    "        X1 = np.linspace(-10, 10, 100)        \n",
    "        colors = [\"blue\", \"red\", \"yellow\"]\n",
    "\n",
    "        for line_id in line_ids:\n",
    "            canvas.delete(line_id)\n",
    "        line_ids.clear()\n",
    "\n",
    "        for i in range(len(v)):\n",
    "            X2 = calculate_eksen(X1, v[i])\n",
    "            for j in range(len(X1) - 1):\n",
    "                line_id = canvas.create_line(center_x + X1[j] * 20, center_y - X2[j] * 20,\n",
    "                                   center_x + X1[j + 1] * 20, center_y - X2[j + 1] * 20,\n",
    "                                   fill=colors[i], width=2)\n",
    "                line_ids.append(line_id)\n",
    "                \n",
    "        #time.sleep(0.5)\n",
    "\n",
    "\n",
    "    except ValueError:\n",
    "        coord_label.config(text=\"Lütfen geçerli sayılar girin.\")\n"
   ]
  },
  {
   "cell_type": "code",
   "execution_count": null,
   "id": "6646a192-a489-43fc-a3f1-56d4f0f95a50",
   "metadata": {},
   "outputs": [],
   "source": [
    "def single_layer_function(P, K, J, w, d, b, epochs=100):\n",
    "    x_list_combo.append(d[0])\n",
    "    print(\"x_list_combo: \", x_list_combo)\n",
    "    print(\"D values: \", d_list_values)\n",
    "    total_error = 0\n",
    "    epoch_count = 0\n",
    "    flag = True\n",
    "    while flag and int(epoch_count) < epochs:\n",
    "        print(\"Epoch: \", epoch_count)\n",
    "        w_trans = transpose(w)\n",
    "        x_trans = transpose(x_list_combo)\n",
    "        for step in range(P):    \n",
    "            error, out_list = feed_forward(K, J, w_trans, x_trans, d, b, step)\n",
    "            print(\"out_list:\",out_list)\n",
    "            w = single_layer_backward(d, out_list, w_trans, x_trans, K, step)\n",
    "            print(f\"New Wight Values is {w}\")\n",
    "            draw_line(w)\n",
    "            epoch_count += 1\n",
    "            \n",
    "            window.update()  \n",
    "        print(\"--------------------------------\")\n",
    "        total_error += error\n",
    "        print(f\"Total Error is {total_error}\")\n",
    "        if total_error == 0.0:\n",
    "            flag = False\n",
    "\n"
   ]
  },
  {
   "cell_type": "code",
   "execution_count": null,
   "id": "6dd8aefa-f76f-4e45-a9f1-2becc8d0159b",
   "metadata": {},
   "outputs": [],
   "source": [
    "condition = lambda a, b:  1 if a > b else -1"
   ]
  },
  {
   "cell_type": "code",
   "execution_count": null,
   "id": "6d5318d0-5139-4595-867f-7f9b951741b8",
   "metadata": {},
   "outputs": [],
   "source": [
    "condition(3, 4)"
   ]
  },
  {
   "cell_type": "code",
   "execution_count": null,
   "id": "b390aeec-9ebe-4bdc-837f-14017be046d0",
   "metadata": {},
   "outputs": [],
   "source": [
    "(-1 if 3 > 4 else 0)"
   ]
  },
  {
   "cell_type": "code",
   "execution_count": null,
   "id": "03ce6f08-e6d9-4233-a9f9-0e805e40abab",
   "metadata": {},
   "outputs": [],
   "source": []
  },
  {
   "cell_type": "code",
   "execution_count": null,
   "id": "d4c0b480-ebf8-4b73-9a16-a9d6ff518688",
   "metadata": {},
   "outputs": [],
   "source": [
    "window = tk.Tk()\n",
    "window.title(\"Koordinat Çizimi\")\n",
    "\n",
    "canvas_width = 600\n",
    "canvas_height = 400\n",
    "canvas = tk.Canvas(window, width=canvas_width, height=canvas_height, bg=\"white\")\n",
    "canvas.grid(row=0, column=0)\n",
    "\n",
    "center_x = canvas_width // 2\n",
    "center_y = canvas_height // 2\n",
    "\n",
    "canvas.create_line(0, center_y, canvas_width, center_y, fill=\"black\", width=2)  # X ekseni\n",
    "canvas.create_line(center_x, 0, center_x, canvas_height, fill=\"black\", width=2)  # Y ekseni\n",
    "line_ids = []\n",
    "x_list_combo = []\n",
    "d_list_values = []\n",
    "x1_list = []\n",
    "x2_list = []"
   ]
  },
  {
   "cell_type": "code",
   "execution_count": null,
   "id": "0ab1e1b1-6151-4ffc-a0da-d9269f795e99",
   "metadata": {},
   "outputs": [],
   "source": [
    "def canvas_draw(event):\n",
    "    \n",
    "    combo_get = int(combobox.get())\n",
    "    print(\"Combo Vaue\", combo_get)\n",
    "    colors = ['black', 'red', 'blue', 'yellow']\n",
    "    \n",
    "    x, y = event.x, event.y\n",
    "    \n",
    "    x1 = int((x/30) - 10)\n",
    "    x2 = int(10 - (y/20))\n",
    "    print(\"x1, x2\", x1, x2)\n",
    "    \n",
    "    x1_list.append(x1)\n",
    "    x2_list.append(x2)\n",
    "    print(\"x1 list: \", x1_list)\n",
    "    print(\"x2 list: \", x2_list)\n",
    "    \n",
    "    #d_list_values.append(1 if x1 > x2 else -1)\n",
    "    \n",
    "    canvas.create_oval(x-3, y-3, x+3, y+3, fill=colors[combo_get-1])\n",
    "    return x_list"
   ]
  },
  {
   "cell_type": "code",
   "execution_count": null,
   "id": "bd415189-0cfb-4867-a91a-3d6616ba718f",
   "metadata": {},
   "outputs": [],
   "source": [
    "def get_values():\n",
    "    global x_list_combo\n",
    "    x_list_combo = []\n",
    "    x_list_combo.append(x1_list)\n",
    "    x_list_combo.append(x2_list)\n",
    "    print(\"Get Values: \", x_list_combo)"
   ]
  },
  {
   "cell_type": "code",
   "execution_count": null,
   "id": "07df7e73-ac27-4747-a4b2-d0d256f08623",
   "metadata": {},
   "outputs": [],
   "source": [
    "def draw_points(event):\n",
    "    #x1_list = []\n",
    "    #x2_list = []\n",
    "    \n",
    "    canvas.bind(\"<Button-1>\", lambda event: canvas_draw(event))\n",
    "    #print(x_list)\n",
    "    #coord_label.config(text=f\"Koordinatlar: ({x}, {y})\")\n",
    "    return x_list"
   ]
  },
  {
   "cell_type": "code",
   "execution_count": null,
   "id": "250d3737-224a-430d-b860-3ee80da37ac8",
   "metadata": {
    "scrolled": true,
    "tags": []
   },
   "outputs": [],
   "source": [
    "frame = tk.Frame(window, bg='lightblue')\n",
    "\n",
    "frame_entry_combo = tk.Frame(frame, bg='lightblue')\n",
    "entry1 = tk.Entry(frame_entry_combo, font=('calibre',10,'normal'))\n",
    "entry2 = tk.Entry(frame, font=('calibre',10,'normal'))\n",
    "#entry3 = tk.Entry(window, font=('calibre',10,'normal'))\n",
    "combobox = Combobox(frame_entry_combo, values=comboList, state='readonly')\n",
    "\n",
    "combobox.bind(\"<<ComboboxSelected>>\", draw_points)\n",
    "\n",
    "button1 = tk.Button(frame, text='Select Values', command = get_values) \n",
    "button2 = tk.Button(frame, text=\"Training\", command=lambda: single_layer_function(3, 3, 3, w_list, d_list, bias))\n",
    "\n",
    "entry4 = tk.Entry(frame, font=('calibre',10,'normal'), width=40)\n",
    "\n",
    "frame.grid(row=0, column= 1, padx=10, pady=10, sticky=\"ns\")\n",
    "frame_entry_combo.pack(pady=5)\n",
    "\n",
    "entry1.grid(row=0, column=0, pady=5, padx=5)\n",
    "combobox.grid(row=0, column=1, pady=5, padx=5)\n",
    "entry2.pack(pady=5)\n",
    "\n",
    "button1.pack(pady=5)\n",
    "button2.pack(pady=5)\n",
    "\n",
    "entry4.pack(pady=5)\n",
    "\n",
    "\n",
    "window.mainloop()"
   ]
  },
  {
   "cell_type": "code",
   "execution_count": null,
   "id": "b8d9b656-b269-4bce-9114-e91f81dadef5",
   "metadata": {},
   "outputs": [],
   "source": [
    "draw_points"
   ]
  },
  {
   "cell_type": "code",
   "execution_count": null,
   "id": "af48c4bd-82f9-4742-b2ee-026be9b006bb",
   "metadata": {},
   "outputs": [],
   "source": []
  },
  {
   "cell_type": "markdown",
   "id": "0500105a-c2fa-47ad-9748-df66e104938a",
   "metadata": {},
   "source": [
    "## Multi Layer "
   ]
  },
  {
   "cell_type": "code",
   "execution_count": null,
   "id": "6bea67aa-797e-440f-80e5-52204e0dd946",
   "metadata": {},
   "outputs": [],
   "source": [
    "def get_f_net_value(net, ratio):\n",
    "    return net * ratio"
   ]
  },
  {
   "cell_type": "code",
   "execution_count": null,
   "id": "fea1f72d-533a-4577-8f0d-efcb204e4f1c",
   "metadata": {},
   "outputs": [],
   "source": [
    "def mean_square_error(d, out):\n",
    "    error = (d - out) ** 2\n",
    "    return round(1/2 * error, 3)"
   ]
  },
  {
   "cell_type": "code",
   "execution_count": null,
   "id": "8132eaeb-65c3-4389-822c-2f0edf34f04f",
   "metadata": {},
   "outputs": [],
   "source": [
    "def get_net_value(col1, col2, K, J, net_name):\n",
    "    net = 0\n",
    "    net_list = []\n",
    "    f_net_list = []\n",
    "    \n",
    "    if net_name == \"net_j\":\n",
    "        for k in range(K):\n",
    "            net = 0\n",
    "            for j in range(J):\n",
    "                net += col1[k][j] * col2[j]\n",
    "            f_net_list.append(get_f_net_value(net, 1/4))\n",
    "            net_list.append(net)\n",
    "    elif net_name == \"net_k\":\n",
    "            for j in range(J):\n",
    "                net += col1[j] * col2[j]\n",
    "            f_net_list.append(get_f_net_value(net, 1/2))\n",
    "            net_list.append(net)\n",
    "    return f_net_list"
   ]
  },
  {
   "cell_type": "code",
   "execution_count": null,
   "id": "bdb83fdf-e8a8-4af3-b2b8-80f677ae5ce8",
   "metadata": {},
   "outputs": [],
   "source": [
    "def multi_layer_forward(v, z, w, K, J, d):\n",
    "    net_j_list = get_net_value(v, z, K, J, \"net_j\")\n",
    "    y = net_j_list + [d]\n",
    "    net_k_list = get_net_value(w, y, K, J, \"net_k\")\n",
    "    print(\"net j list: \", net_j_list)\n",
    "    print(\"net k list: \", sum(net_k_list))\n",
    "    \n",
    "    net_k = round(sum(net_k_list), 3)\n",
    "    error = mean_square_error(net_k, d)\n",
    "    \n",
    "    \n",
    "    return (error, net_k, y)"
   ]
  },
  {
   "cell_type": "code",
   "execution_count": null,
   "id": "4182ce2e-0e39-437b-9caf-3c6f2292b292",
   "metadata": {},
   "outputs": [],
   "source": [
    "def updated_weight_value(intial_weight, new_weight):\n",
    "    return round(intial_weight + new_weight, 3)"
   ]
  },
  {
   "cell_type": "code",
   "execution_count": null,
   "id": "ee760fb9-a35f-48cb-83fa-114f48f53095",
   "metadata": {},
   "outputs": [],
   "source": [
    "def multi_layer_backward(d, net_k, f_k, y, w):\n",
    "    weight_list = []\n",
    "    for j in range(len(y)):\n",
    "        weight = round((d - net_k) * f_k * y[j], 3)\n",
    "        updated_weight = updated_weight_value(w[j], weight)\n",
    "        weight_list.append(updated_weight)\n",
    "    return weight_list"
   ]
  },
  {
   "cell_type": "code",
   "execution_count": null,
   "id": "64798bb2-7e86-4d8d-b509-09c85a59c6b9",
   "metadata": {},
   "outputs": [],
   "source": [
    "def multi_layer(v, z, w, P, d, f_k):\n",
    "    flag = True\n",
    "    while flag:\n",
    "         for step in range(P):\n",
    "            error, net_k, y = multi_layer_forward(v, z, w, len(v), 3, d)\n",
    "\n",
    "            weight_list = multi_layer_backward(d, net_k, f_k, y, w)\n",
    "            print(\"Weight List : \", weight_list)        \n",
    "            w = weight_list\n",
    "\n",
    "            print(\"Error : \", error)\n",
    "            print(\"----------------------------------------\")\n",
    "            if error == 0.0:\n",
    "                flag = False\n",
    "                break\n"
   ]
  },
  {
   "cell_type": "code",
   "execution_count": null,
   "id": "77e3dd0f-eed4-4ec6-ab0e-1d2832238741",
   "metadata": {},
   "outputs": [],
   "source": [
    "v = [[-2, 2, 1],\n",
    "     [4, -2, 1]]\n",
    "w = [1, 1, 1/2]\n",
    "z = [0, 1, -1]\n",
    "d = -1\n",
    "m = 1\n",
    "f_k = 1/2"
   ]
  },
  {
   "cell_type": "code",
   "execution_count": null,
   "id": "0516cdfa-1ee7-4876-adcc-6a3943c7f301",
   "metadata": {},
   "outputs": [],
   "source": [
    "len(v)"
   ]
  },
  {
   "cell_type": "code",
   "execution_count": null,
   "id": "c27b8d3a-4e2b-4a4a-bde7-2da374a7acf3",
   "metadata": {},
   "outputs": [],
   "source": [
    "multi_layer(v, z, w, 7, d, f_k)"
   ]
  },
  {
   "cell_type": "markdown",
   "id": "75fbdf19-90d7-4873-bcce-ef44b7c52a36",
   "metadata": {},
   "source": [
    "## Multi Layer Plot"
   ]
  },
  {
   "cell_type": "code",
   "execution_count": null,
   "id": "ad277fff-7a2a-4845-858f-201d3416518b",
   "metadata": {},
   "outputs": [],
   "source": [
    "import tkinter as tk\n",
    "import time"
   ]
  },
  {
   "cell_type": "code",
   "execution_count": null,
   "id": "e9b8cd42-4351-4adc-b5c2-44f6f5274c01",
   "metadata": {},
   "outputs": [],
   "source": [
    "def calculate_eksen(X1, v):\n",
    "    for j in range(len(v)):\n",
    "        if v[1] != 0:\n",
    "            X2 = -1 * (v[0] * X1 + v[2]) / v[1]\n",
    "        else:\n",
    "            v[1] = 1\n",
    "            return calculate_eksen(X1, v)\n",
    "    return X2"
   ]
  },
  {
   "cell_type": "code",
   "execution_count": null,
   "id": "6608913b-f397-47d3-bee1-a38f8c92597a",
   "metadata": {},
   "outputs": [],
   "source": [
    "def draw_line(v):\n",
    "    try:\n",
    "        global line_ids\n",
    "\n",
    "        X1 = np.linspace(-10, 10, 100)        \n",
    "        #colors = [\"blue\", \"red\", \"yellow\"]\n",
    "\n",
    "        for line_id in line_ids:\n",
    "            canvas.delete(line_id)\n",
    "        line_ids.clear()\n",
    "        \n",
    "        print(\"v: \", v)\n",
    "        X2 = calculate_eksen(X1, v)\n",
    "        for j in range(len(X1) - 1):\n",
    "            line_id = canvas.create_line(center_x + X1[j] * 20, center_y - X2[j] * 20,\n",
    "                               center_x + X1[j + 1] * 20, center_y - X2[j + 1] * 20,\n",
    "                               fill=\"blue\", width=2)\n",
    "            line_ids.append(line_id)\n",
    "                \n",
    "        #time.sleep(0.5)\n",
    "\n",
    "\n",
    "    except ValueError:\n",
    "        coord_label.config(text=\"Lütfen geçerli sayılar girin.\")\n"
   ]
  },
  {
   "cell_type": "code",
   "execution_count": null,
   "id": "a27c10c7-9768-4a68-8deb-6d3e5066282b",
   "metadata": {},
   "outputs": [],
   "source": [
    "def multi_layer(z, w, P, d, f_k, epoch= 100):\n",
    "    v = x_list_combo\n",
    "    print(\"V value: \", v)\n",
    "    flag = True\n",
    "    epoch_count = 0\n",
    "    while flag and epoch_count < epoch:\n",
    "        print(f\"Epoch : {epoch_count}\")\n",
    "            \n",
    "        for step in range(P):\n",
    "            error, net_k, y = multi_layer_forward(v, z, w, len(v), 3, d)\n",
    "\n",
    "            weight_list = multi_layer_backward(d, net_k, f_k, y, w)\n",
    "            print(\"Weight List : \", weight_list)        \n",
    "            w = weight_list\n",
    "\n",
    "            draw_line(w)\n",
    "            epoch_count += 1\n",
    "            window.update()\n",
    "\n",
    "            print(\"Error : \", error)\n",
    "            print(\"----------------------------------------\")\n",
    "            if error == 0.0:\n",
    "                flag = False\n",
    "                break\n"
   ]
  },
  {
   "cell_type": "code",
   "execution_count": null,
   "id": "64c9b359-a6ba-40bf-9d46-74f500e69162",
   "metadata": {},
   "outputs": [],
   "source": [
    "v = [[-4, 5, 1],\n",
    "     [3, -7, 2]]\n",
    "w = [1, 1, 1/2]\n",
    "z = [0, 1, -1]\n",
    "d = -1\n",
    "m = 1\n",
    "f_k = 1/2"
   ]
  },
  {
   "cell_type": "code",
   "execution_count": null,
   "id": "da842a46-103a-4370-ae1f-5f7ad85e636b",
   "metadata": {},
   "outputs": [],
   "source": [
    "def canvas_draw(event):\n",
    "    \n",
    "    combo_get = int(combobox.get())\n",
    "    print(\"Combo Vaue\", combo_get)\n",
    "    colors = ['black', 'red', 'blue', 'yellow']\n",
    "    \n",
    "    x, y = event.x, event.y\n",
    "    \n",
    "    x1 = int((x/30) - 10)\n",
    "    x2 = int(10 - (y/20))\n",
    "    print(\"x1, x2\", x1, x2)\n",
    "    \n",
    "    x1_list.append(x1)\n",
    "    x2_list.append(x2)\n",
    "    print(\"x1 list: \", x1_list)\n",
    "    print(\"x2 list: \", x2_list)\n",
    "    \n",
    "    #d_list_values.append(1 if x1 > x2 else -1)\n",
    "    \n",
    "    canvas.create_oval(x-3, y-3, x+3, y+3, fill=colors[combo_get-1])\n",
    "    return x_list"
   ]
  },
  {
   "cell_type": "code",
   "execution_count": null,
   "id": "23211c01-661b-4fb6-960d-a506580f07e1",
   "metadata": {},
   "outputs": [],
   "source": [
    "def get_values():\n",
    "    global x_list_combo\n",
    "    x_list_combo = []\n",
    "    x_list_combo.append(x1_list)\n",
    "    x_list_combo.append(x2_list)\n",
    "    print(\"Get Values: \", x_list_combo)"
   ]
  },
  {
   "cell_type": "code",
   "execution_count": null,
   "id": "562153e3-fc52-415d-8eaf-3b717dd8bf7d",
   "metadata": {},
   "outputs": [],
   "source": [
    "def draw_points(event):\n",
    "    \n",
    "    canvas.bind(\"<Button-1>\", lambda event: canvas_draw(event))"
   ]
  },
  {
   "cell_type": "code",
   "execution_count": null,
   "id": "1cbf738f-51ac-43e6-8fe2-fc24bf127b99",
   "metadata": {},
   "outputs": [],
   "source": [
    "window = tk.Tk()\n",
    "window.title(\"Multi Layer\")\n",
    "\n",
    "canvas_width = 600\n",
    "canvas_height = 400\n",
    "canvas = tk.Canvas(window, width=canvas_width, height=canvas_height, bg=\"white\")\n",
    "canvas.grid(row=0, column=0)\n",
    "\n",
    "center_x = canvas_width // 2\n",
    "center_y = canvas_height // 2\n",
    "\n",
    "canvas.create_line(0, center_y, canvas_width, center_y, fill=\"black\", width=2)  # X ekseni\n",
    "canvas.create_line(center_x, 0, center_x, canvas_height, fill=\"black\", width=2)  # Y ekseni\n",
    "line_ids = []\n",
    "x_list_combo = []\n",
    "d_list_values = []\n",
    "x1_list = []\n",
    "x2_list = []"
   ]
  },
  {
   "cell_type": "code",
   "execution_count": null,
   "id": "bdc53b29-6b8d-4891-9e91-da98b4c89d74",
   "metadata": {
    "scrolled": true,
    "tags": []
   },
   "outputs": [],
   "source": [
    "frame = tk.Frame(window, bg='lightblue')\n",
    "\n",
    "frame_entry_combo = tk.Frame(frame, bg='lightblue')\n",
    "entry1 = tk.Entry(frame_entry_combo, font=('calibre',10,'normal'))\n",
    "entry2 = tk.Entry(frame, font=('calibre',10,'normal'))\n",
    "#entry3 = tk.Entry(window, font=('calibre',10,'normal'))\n",
    "combobox = Combobox(frame_entry_combo, values=comboList, state='readonly')\n",
    "\n",
    "combobox.bind(\"<<ComboboxSelected>>\", draw_points)\n",
    "\n",
    "button1 = tk.Button(frame, text='Select Values', command = get_values) \n",
    "button2 = tk.Button(frame, text=\"Training\", command=lambda: multi_layer(z, w, 7, d, f_k))\n",
    "\n",
    "entry4 = tk.Entry(frame, font=('calibre',10,'normal'), width=40)\n",
    "\n",
    "frame.grid(row=0, column= 1, padx=10, pady=10, sticky=\"ns\")\n",
    "frame_entry_combo.pack(pady=5)\n",
    "\n",
    "entry1.grid(row=0, column=0, pady=5, padx=5)\n",
    "combobox.grid(row=0, column=1, pady=5, padx=5)\n",
    "entry2.pack(pady=5)\n",
    "\n",
    "button1.pack(pady=5)\n",
    "button2.pack(pady=5)\n",
    "\n",
    "entry4.pack(pady=5)\n",
    "\n",
    "\n",
    "window.mainloop()"
   ]
  },
  {
   "cell_type": "code",
   "execution_count": null,
   "id": "dd305278-e170-46d5-8206-6bf982e06ea5",
   "metadata": {},
   "outputs": [],
   "source": []
  },
  {
   "cell_type": "code",
   "execution_count": null,
   "id": "c1acf3a5-ee71-4516-a3cd-e5ee1034e16b",
   "metadata": {},
   "outputs": [],
   "source": []
  },
  {
   "cell_type": "markdown",
   "id": "9087b2b5-4a43-48d9-b55d-4aa22b45b5e8",
   "metadata": {},
   "source": [
    "# Multi Layer Test"
   ]
  },
  {
   "cell_type": "code",
   "execution_count": 1,
   "id": "adf6f51c-4474-4a0f-84b5-d005e3e8ae86",
   "metadata": {},
   "outputs": [],
   "source": [
    "import math"
   ]
  },
  {
   "cell_type": "code",
   "execution_count": 2,
   "id": "c6363e79-5567-4ddd-b202-718a80914288",
   "metadata": {},
   "outputs": [],
   "source": [
    "def softmax_function(net_list):\n",
    "    sum_exp = sum(map(math.exp, net_list))\n",
    "    return list(map(lambda x: round(math.exp(x)/sum_exp, 3), net_list))"
   ]
  },
  {
   "cell_type": "code",
   "execution_count": 3,
   "id": "53dce46d-1cc1-42ec-bd37-6b760b7ce75d",
   "metadata": {},
   "outputs": [],
   "source": [
    "arr = [0, 0, 1]"
   ]
  },
  {
   "cell_type": "code",
   "execution_count": 4,
   "id": "3e59e51d-358c-480c-8403-a0f5f3f5106b",
   "metadata": {},
   "outputs": [],
   "source": [
    "def f_net_softmax(net_list):\n",
    "    softmax = []\n",
    "    softmax_matrix = []\n",
    "    for i in range(len(net_list)):\n",
    "        softmax = []\n",
    "        for j in range(len(net_list)):\n",
    "            if i == j:\n",
    "                softmax.append(net_list[i]*(1-net_list[i]))\n",
    "            else:\n",
    "                softmax.append(-1*net_list[i]*net_list[j])\n",
    "        softmax_matrix.append(softmax)\n",
    "    return softmax_matrix"
   ]
  },
  {
   "cell_type": "code",
   "execution_count": 72,
   "id": "9f4acb8c-5481-4eb1-923e-b87c9e2a09d5",
   "metadata": {},
   "outputs": [],
   "source": [
    "def softmax_derive(output):\n",
    "    return list(map(lambda x: round(x*(1-x), 4), output))"
   ]
  },
  {
   "cell_type": "code",
   "execution_count": 5,
   "id": "fd140dfe-9a78-4ff0-b09d-d9cbc6a46dcc",
   "metadata": {},
   "outputs": [
    {
     "data": {
      "text/plain": [
       "[[0, 0, 0], [0, 0, 0], [0, 0, 0]]"
      ]
     },
     "execution_count": 5,
     "metadata": {},
     "output_type": "execute_result"
    }
   ],
   "source": [
    "f_net_softmax(arr)"
   ]
  },
  {
   "cell_type": "code",
   "execution_count": 128,
   "id": "8d330172-72f0-4ff2-82ae-1f7dad30286a",
   "metadata": {},
   "outputs": [],
   "source": [
    "def control(d_list, out_list):\n",
    "    for j in range(len(out_list)):\n",
    "        if round(out_list[j]) != d_list[j]:\n",
    "            return j"
   ]
  },
  {
   "cell_type": "code",
   "execution_count": 6,
   "id": "17ee69be-e39b-4296-83a0-a24942053fb9",
   "metadata": {},
   "outputs": [],
   "source": [
    "def sigmoid_function(lambda_value, net):\n",
    "    exp = - lambda_value * net\n",
    "    return round((2 / (1 + math.exp(exp))) - 1, 3)"
   ]
  },
  {
   "cell_type": "code",
   "execution_count": 7,
   "id": "efa881f2-dea9-4b0c-a69b-2ec998ecd7e2",
   "metadata": {},
   "outputs": [],
   "source": [
    "def relu_lisst(values):\n",
    "    f_net_list = []\n",
    "    for value in values:\n",
    "        f_net_list.append(max(0, value))\n",
    "    return f_net_list"
   ]
  },
  {
   "cell_type": "code",
   "execution_count": 8,
   "id": "cbe6d695-883f-4345-8364-34ddd6d15c6c",
   "metadata": {},
   "outputs": [],
   "source": [
    "def relu(net):\n",
    "    return max(0, net)"
   ]
  },
  {
   "cell_type": "code",
   "execution_count": 85,
   "id": "5fbc8ee4-9ca8-41d4-be75-bb6590e0cbeb",
   "metadata": {},
   "outputs": [],
   "source": [
    "def mean_square_error(d, out):\n",
    "    sub_data = list(map(lambda x, y: round(x - y, 3), d, out))\n",
    "    return (sum(sub_data) / len(d)), sub_data"
   ]
  },
  {
   "cell_type": "code",
   "execution_count": 165,
   "id": "af66267a-5b3d-46da-8e08-5e35a4a7ec34",
   "metadata": {},
   "outputs": [],
   "source": [
    "def get_net_value(x, w, K, J, bias, step, activation_function):\n",
    "    net = 0\n",
    "    if activation_function == 'softmax':\n",
    "        y = x\n",
    "    else:\n",
    "        y = x[step]\n",
    "    \n",
    "    print(\"y: \", y)\n",
    "    print(\"w: \", w[step])\n",
    "    for j in range(J):\n",
    "        net += y[j] * w[step][j]\n",
    "        print(f\"{j}.net:\", net)\n",
    "        \n",
    "    net += bias[step]\n",
    "    print(\"net: \", net)\n",
    "    print(\"bias: \", bias)\n",
    "    \n",
    "    if activation_function == 'relu':\n",
    "        f_net = relu(net)\n",
    "    else:\n",
    "        f_net = net\n",
    "\n",
    "    return f_net, y"
   ]
  },
  {
   "cell_type": "code",
   "execution_count": 32,
   "id": "26f7b293-d950-451a-97c6-1b20dab0f571",
   "metadata": {},
   "outputs": [],
   "source": [
    "def output_layer(out_list, w, K, J):\n",
    "    all_output_values, y_list = multi_layer_forward(out_list, w, K, J, 'softmax')\n",
    "    f_net_softmax_list = softmax_function(all_output_values)\n",
    "    return f_net_softmax_list"
   ]
  },
  {
   "cell_type": "code",
   "execution_count": 136,
   "id": "21fe83ab-dbbf-4f4d-95c9-527bead9933d",
   "metadata": {},
   "outputs": [],
   "source": [
    "def multi_layer_forward(x, w, K, J, bias, activation_function='relu'):\n",
    "    print(\"Forward\")\n",
    "    all_f_net_list = []\n",
    "    y_list = []\n",
    "    for step in range(len(x)):\n",
    "        f_net, y = get_net_value(x, w, K, J, bias, step, activation_function)\n",
    "        all_f_net_list.append(f_net)\n",
    "        y_list.append(y)\n",
    "    # error = mean_square_error(net_j_list, d)\n",
    "    \n",
    "    return all_f_net_list, y_list"
   ]
  },
  {
   "cell_type": "code",
   "execution_count": 13,
   "id": "09e479f6-aa2e-4ad7-9ae1-404336d6f3d8",
   "metadata": {},
   "outputs": [],
   "source": [
    "def get_values(softmax_matrix, error_list):\n",
    "    values_sum = 0\n",
    "    values_list = []\n",
    "    for i in range(len(error_list)):\n",
    "        for j in range(len(softmax_matrix)):\n",
    "            values_sum += softmax_matrix[i][j]*error_list[i]\n",
    "        values_list.append(values_sum)\n",
    "    return values_list"
   ]
  },
  {
   "cell_type": "code",
   "execution_count": 108,
   "id": "c3248056-9616-4c8a-bcef-5692421ec512",
   "metadata": {},
   "outputs": [],
   "source": [
    "def get_value(col1, col2):\n",
    "    \n",
    "    if isinstance(col1, list) and isinstance(col2, list):\n",
    "        print(col1, col2)\n",
    "        return [0  if col1[i] * col2[i] == -0.0 else col1[i] * col2[i] for i in range(len(col1))]\n",
    "    elif not isinstance(col1, list):\n",
    "        print(\"col2\", col2)\n",
    "        return [col1 * col2[i] for i in range(len(col2))]\n",
    "    elif not isinstance(col2, list):\n",
    "        return [col1[i] * col2 for i in range(len(col1))]\n",
    "    return None"
   ]
  },
  {
   "cell_type": "code",
   "execution_count": 30,
   "id": "93e13385-13eb-4f25-a0ad-f4accfc32e15",
   "metadata": {},
   "outputs": [],
   "source": [
    "def updated_weight_value(intial_weight, new_weight):\n",
    "    return round(intial_weight + new_weight, 3)"
   ]
  },
  {
   "cell_type": "code",
   "execution_count": 130,
   "id": "1aaae667-78b8-4b76-8fc8-7750bb837607",
   "metadata": {},
   "outputs": [],
   "source": [
    "def multi_layer_backward(d, all_f_net_list, f_k, y_list, w, m, s):\n",
    "    print(\"Backward\")\n",
    "    print(\"y: \", y_list)\n",
    "    print(\"f_net list : \", all_f_net_list)\n",
    "    print(\"d: \", d)\n",
    "    #print(\"softmax: \", softmax_function(f_net_list)[-1])\n",
    "    weight_list = []\n",
    "    delta_list = []\n",
    "    error, error_list = mean_square_error(d, all_f_net_list)\n",
    "    print(\"Error:\", error_list)\n",
    "    \n",
    "    softmax_derive_values = softmax_derive(all_f_net_list)\n",
    "    print(\"Softmax Derive:\", softmax_derive_values)\n",
    "\n",
    "    for softmax, error in zip(softmax_derive_values, error_list):\n",
    "        delta_list.append(error * softmax)\n",
    "    \n",
    "    print(\"Delta Values: \", delta_list)\n",
    "    \n",
    "    for step in range(len(y_list)-1, -1, -1):\n",
    "        weight_list = get_value(m, get_value(delta_list, y_list[step]))\n",
    "        \n",
    "    print(\"update weight list: \", weight_list)\n",
    "    \n",
    "    print(\"weight index: \", control(d, all_f_net_list))\n",
    "    weight_index = control(d, all_f_net_list)\n",
    "    w[weight_index] = weight_list\n",
    "    print(\"new weight list\", w)\n",
    "    \"\"\"\n",
    "    if step == len(all_f_net_list)-1:\n",
    "        error =  \n",
    "        error_list = mean_square_error(d[step], all_f_net_list[step], True)\n",
    "        print(\"Error:\", error)\n",
    "        print(\"Error List:\", error_list)\n",
    "        softmax_matrix = f_net_softmax(all_f_net_list[step])\n",
    "        print(\"Softmax Matrix:\", softmax_matrix)\n",
    "        s.append(get_values(softmax_matrix, error_list))\n",
    "        print(\"S: \", s)\n",
    "    else:\n",
    "        print(\"S values: \", s[i])\n",
    "        print(\"y list: \", y_list[step])\n",
    "        new_weight = get_value(s[i], y_list[step])\n",
    "        print(\"new weight:\", new_weight)\n",
    "        new_weight = get_value(m, new_weight)\n",
    "        print(new_weight)\n",
    "        i = (len(all_f_net_list) -1) - step \n",
    "\"\"\"\n",
    "    #s.append((d - f_net_list[-1]) * softmax_function(f_net_list)[-1])\n",
    "    return weight_list"
   ]
  },
  {
   "cell_type": "code",
   "execution_count": 153,
   "id": "e1b8b87c-813d-4a28-a3b8-19ff42b80bec",
   "metadata": {},
   "outputs": [],
   "source": [
    "def multi_layer(x, w, P, d, f_k, m, bias, epoch= 1):\n",
    "    #v = x_list_combo\n",
    "    print(\"X value: \", x)\n",
    "    print(\"W value: \", w)\n",
    "    flag = True\n",
    "    epoch_count = 0\n",
    "    print(bias)\n",
    "    while flag and epoch_count < epoch:\n",
    "        print(f\"Epoch : {epoch_count}\")\n",
    "        y_list = []\n",
    "        s = []\n",
    "        all_net_list, y_list = multi_layer_forward(x, w, len(w), len(x), bias)\n",
    "        output = output_layer(all_net_list,  w, len(w), len(x))\n",
    "        print(\"output: \", output)\n",
    "        #for step in range(2, -1, -1):\n",
    "        weight_list = multi_layer_backward(d, output, f_k, y_list, w, m, s)\n",
    "            #print(\"Weight List : \", weight_list)        \n",
    "            #w = weight_list\n",
    "\n",
    "            #draw_line(w)\n",
    "        epoch_count += 1\n",
    "            #window.update()\n",
    "        #print(\"f Net List: \", all_f_net_list)\n",
    "        print(\"net list\", all_net_list)\n",
    "        return all_net_list\n"
   ]
  },
  {
   "cell_type": "code",
   "execution_count": 159,
   "id": "a1444bbd-b99a-4776-bae2-ee34d37837b4",
   "metadata": {},
   "outputs": [],
   "source": [
    "x = [[2, 4, 3],\n",
    "     [1, -2, 1],\n",
    "     [-4, 2, 1]]\n",
    "\n",
    "w = [[1, 1, 5],\n",
    "     [1, -1, 4],\n",
    "     [-2, -1, -2]]\n",
    "\n",
    "bias = [-1, -1, -1]\n",
    "\n",
    "z = [0, 1, -1]\n",
    "d = [1, 0, 1]\n",
    "f_k = 1/2\n",
    "m = 0.1"
   ]
  },
  {
   "cell_type": "code",
   "execution_count": 166,
   "id": "8260014d-6d4e-4169-aff8-e9ca674d8afd",
   "metadata": {},
   "outputs": [
    {
     "name": "stdout",
     "output_type": "stream",
     "text": [
      "X value:  [[2, 4, 3], [1, -2, 1], [-4, 2, 1]]\n",
      "W value:  [[1, 1, 5], [1, -1, 4], [-2, -1, -2]]\n",
      "[-1, -1, -1]\n",
      "Epoch : 0\n",
      "Forward\n",
      "y:  [2, 4, 3]\n",
      "w:  [1, 1, 5]\n",
      "0.net: 2\n",
      "1.net: 6\n",
      "2.net: 21\n",
      "net:  20\n",
      "bias:  [-1, -1, -1]\n",
      "y:  [1, -2, 1]\n",
      "w:  [1, -1, 4]\n",
      "0.net: 1\n",
      "1.net: 3\n",
      "2.net: 7\n",
      "net:  6\n",
      "bias:  [-1, -1, -1]\n",
      "y:  [-4, 2, 1]\n",
      "w:  [-2, -1, -2]\n",
      "0.net: 8\n",
      "1.net: 6\n",
      "2.net: 4\n",
      "net:  3\n",
      "bias:  [-1, -1, -1]\n",
      "Forward\n",
      "y:  20\n",
      "w:  [1, 1, 5]\n"
     ]
    },
    {
     "ename": "TypeError",
     "evalue": "'int' object is not subscriptable",
     "output_type": "error",
     "traceback": [
      "\u001b[1;31m---------------------------------------------------------------------------\u001b[0m",
      "\u001b[1;31mTypeError\u001b[0m                                 Traceback (most recent call last)",
      "\u001b[1;32m~\\AppData\\Local\\Temp\\ipykernel_8796\\797357707.py\u001b[0m in \u001b[0;36m<module>\u001b[1;34m\u001b[0m\n\u001b[1;32m----> 1\u001b[1;33m \u001b[0mall_f_net_list\u001b[0m \u001b[1;33m=\u001b[0m \u001b[0mmulti_layer\u001b[0m\u001b[1;33m(\u001b[0m\u001b[0mx\u001b[0m\u001b[1;33m,\u001b[0m \u001b[0mw\u001b[0m\u001b[1;33m,\u001b[0m \u001b[1;36m1\u001b[0m\u001b[1;33m,\u001b[0m \u001b[0md\u001b[0m\u001b[1;33m,\u001b[0m \u001b[0mf_k\u001b[0m\u001b[1;33m,\u001b[0m \u001b[0mm\u001b[0m\u001b[1;33m,\u001b[0m \u001b[0mbias\u001b[0m\u001b[1;33m=\u001b[0m\u001b[0mbias\u001b[0m\u001b[1;33m)\u001b[0m\u001b[1;33m\u001b[0m\u001b[1;33m\u001b[0m\u001b[0m\n\u001b[0m",
      "\u001b[1;32m~\\AppData\\Local\\Temp\\ipykernel_8796\\1896470544.py\u001b[0m in \u001b[0;36mmulti_layer\u001b[1;34m(x, w, P, d, f_k, m, bias, epoch)\u001b[0m\n\u001b[0;32m     11\u001b[0m         \u001b[0ms\u001b[0m \u001b[1;33m=\u001b[0m \u001b[1;33m[\u001b[0m\u001b[1;33m]\u001b[0m\u001b[1;33m\u001b[0m\u001b[1;33m\u001b[0m\u001b[0m\n\u001b[0;32m     12\u001b[0m         \u001b[0mall_net_list\u001b[0m\u001b[1;33m,\u001b[0m \u001b[0my_list\u001b[0m \u001b[1;33m=\u001b[0m \u001b[0mmulti_layer_forward\u001b[0m\u001b[1;33m(\u001b[0m\u001b[0mx\u001b[0m\u001b[1;33m,\u001b[0m \u001b[0mw\u001b[0m\u001b[1;33m,\u001b[0m \u001b[0mlen\u001b[0m\u001b[1;33m(\u001b[0m\u001b[0mw\u001b[0m\u001b[1;33m)\u001b[0m\u001b[1;33m,\u001b[0m \u001b[0mlen\u001b[0m\u001b[1;33m(\u001b[0m\u001b[0mx\u001b[0m\u001b[1;33m)\u001b[0m\u001b[1;33m,\u001b[0m \u001b[0mbias\u001b[0m\u001b[1;33m)\u001b[0m\u001b[1;33m\u001b[0m\u001b[1;33m\u001b[0m\u001b[0m\n\u001b[1;32m---> 13\u001b[1;33m         \u001b[0moutput\u001b[0m \u001b[1;33m=\u001b[0m \u001b[0moutput_layer\u001b[0m\u001b[1;33m(\u001b[0m\u001b[0mall_net_list\u001b[0m\u001b[1;33m,\u001b[0m  \u001b[0mw\u001b[0m\u001b[1;33m,\u001b[0m \u001b[0mlen\u001b[0m\u001b[1;33m(\u001b[0m\u001b[0mw\u001b[0m\u001b[1;33m)\u001b[0m\u001b[1;33m,\u001b[0m \u001b[0mlen\u001b[0m\u001b[1;33m(\u001b[0m\u001b[0mx\u001b[0m\u001b[1;33m)\u001b[0m\u001b[1;33m)\u001b[0m\u001b[1;33m\u001b[0m\u001b[1;33m\u001b[0m\u001b[0m\n\u001b[0m\u001b[0;32m     14\u001b[0m         \u001b[0mprint\u001b[0m\u001b[1;33m(\u001b[0m\u001b[1;34m\"output: \"\u001b[0m\u001b[1;33m,\u001b[0m \u001b[0moutput\u001b[0m\u001b[1;33m)\u001b[0m\u001b[1;33m\u001b[0m\u001b[1;33m\u001b[0m\u001b[0m\n\u001b[0;32m     15\u001b[0m         \u001b[1;31m#for step in range(2, -1, -1):\u001b[0m\u001b[1;33m\u001b[0m\u001b[1;33m\u001b[0m\u001b[1;33m\u001b[0m\u001b[0m\n",
      "\u001b[1;32m~\\AppData\\Local\\Temp\\ipykernel_8796\\2460766352.py\u001b[0m in \u001b[0;36moutput_layer\u001b[1;34m(out_list, w, K, J)\u001b[0m\n\u001b[0;32m      1\u001b[0m \u001b[1;32mdef\u001b[0m \u001b[0moutput_layer\u001b[0m\u001b[1;33m(\u001b[0m\u001b[0mout_list\u001b[0m\u001b[1;33m,\u001b[0m \u001b[0mw\u001b[0m\u001b[1;33m,\u001b[0m \u001b[0mK\u001b[0m\u001b[1;33m,\u001b[0m \u001b[0mJ\u001b[0m\u001b[1;33m)\u001b[0m\u001b[1;33m:\u001b[0m\u001b[1;33m\u001b[0m\u001b[1;33m\u001b[0m\u001b[0m\n\u001b[1;32m----> 2\u001b[1;33m     \u001b[0mall_output_values\u001b[0m\u001b[1;33m,\u001b[0m \u001b[0my_list\u001b[0m \u001b[1;33m=\u001b[0m \u001b[0mmulti_layer_forward\u001b[0m\u001b[1;33m(\u001b[0m\u001b[0mout_list\u001b[0m\u001b[1;33m,\u001b[0m \u001b[0mw\u001b[0m\u001b[1;33m,\u001b[0m \u001b[0mK\u001b[0m\u001b[1;33m,\u001b[0m \u001b[0mJ\u001b[0m\u001b[1;33m,\u001b[0m \u001b[1;34m'softmax'\u001b[0m\u001b[1;33m)\u001b[0m\u001b[1;33m\u001b[0m\u001b[1;33m\u001b[0m\u001b[0m\n\u001b[0m\u001b[0;32m      3\u001b[0m     \u001b[0mf_net_softmax_list\u001b[0m \u001b[1;33m=\u001b[0m \u001b[0msoftmax_function\u001b[0m\u001b[1;33m(\u001b[0m\u001b[0mall_output_values\u001b[0m\u001b[1;33m)\u001b[0m\u001b[1;33m\u001b[0m\u001b[1;33m\u001b[0m\u001b[0m\n\u001b[0;32m      4\u001b[0m     \u001b[1;32mreturn\u001b[0m \u001b[0mf_net_softmax_list\u001b[0m\u001b[1;33m\u001b[0m\u001b[1;33m\u001b[0m\u001b[0m\n",
      "\u001b[1;32m~\\AppData\\Local\\Temp\\ipykernel_8796\\3693391086.py\u001b[0m in \u001b[0;36mmulti_layer_forward\u001b[1;34m(x, w, K, J, bias, activation_function)\u001b[0m\n\u001b[0;32m      4\u001b[0m     \u001b[0my_list\u001b[0m \u001b[1;33m=\u001b[0m \u001b[1;33m[\u001b[0m\u001b[1;33m]\u001b[0m\u001b[1;33m\u001b[0m\u001b[1;33m\u001b[0m\u001b[0m\n\u001b[0;32m      5\u001b[0m     \u001b[1;32mfor\u001b[0m \u001b[0mstep\u001b[0m \u001b[1;32min\u001b[0m \u001b[0mrange\u001b[0m\u001b[1;33m(\u001b[0m\u001b[0mlen\u001b[0m\u001b[1;33m(\u001b[0m\u001b[0mx\u001b[0m\u001b[1;33m)\u001b[0m\u001b[1;33m)\u001b[0m\u001b[1;33m:\u001b[0m\u001b[1;33m\u001b[0m\u001b[1;33m\u001b[0m\u001b[0m\n\u001b[1;32m----> 6\u001b[1;33m         \u001b[0mf_net\u001b[0m\u001b[1;33m,\u001b[0m \u001b[0my\u001b[0m \u001b[1;33m=\u001b[0m \u001b[0mget_net_value\u001b[0m\u001b[1;33m(\u001b[0m\u001b[0mx\u001b[0m\u001b[1;33m,\u001b[0m \u001b[0mw\u001b[0m\u001b[1;33m,\u001b[0m \u001b[0mK\u001b[0m\u001b[1;33m,\u001b[0m \u001b[0mJ\u001b[0m\u001b[1;33m,\u001b[0m \u001b[0mbias\u001b[0m\u001b[1;33m,\u001b[0m \u001b[0mstep\u001b[0m\u001b[1;33m,\u001b[0m \u001b[0mactivation_function\u001b[0m\u001b[1;33m)\u001b[0m\u001b[1;33m\u001b[0m\u001b[1;33m\u001b[0m\u001b[0m\n\u001b[0m\u001b[0;32m      7\u001b[0m         \u001b[0mall_f_net_list\u001b[0m\u001b[1;33m.\u001b[0m\u001b[0mappend\u001b[0m\u001b[1;33m(\u001b[0m\u001b[0mf_net\u001b[0m\u001b[1;33m)\u001b[0m\u001b[1;33m\u001b[0m\u001b[1;33m\u001b[0m\u001b[0m\n\u001b[0;32m      8\u001b[0m         \u001b[0my_list\u001b[0m\u001b[1;33m.\u001b[0m\u001b[0mappend\u001b[0m\u001b[1;33m(\u001b[0m\u001b[0my\u001b[0m\u001b[1;33m)\u001b[0m\u001b[1;33m\u001b[0m\u001b[1;33m\u001b[0m\u001b[0m\n",
      "\u001b[1;32m~\\AppData\\Local\\Temp\\ipykernel_8796\\3959788679.py\u001b[0m in \u001b[0;36mget_net_value\u001b[1;34m(x, w, K, J, bias, step, activation_function)\u001b[0m\n\u001b[0;32m      9\u001b[0m     \u001b[0mprint\u001b[0m\u001b[1;33m(\u001b[0m\u001b[1;34m\"w: \"\u001b[0m\u001b[1;33m,\u001b[0m \u001b[0mw\u001b[0m\u001b[1;33m[\u001b[0m\u001b[0mstep\u001b[0m\u001b[1;33m]\u001b[0m\u001b[1;33m)\u001b[0m\u001b[1;33m\u001b[0m\u001b[1;33m\u001b[0m\u001b[0m\n\u001b[0;32m     10\u001b[0m     \u001b[1;32mfor\u001b[0m \u001b[0mj\u001b[0m \u001b[1;32min\u001b[0m \u001b[0mrange\u001b[0m\u001b[1;33m(\u001b[0m\u001b[0mJ\u001b[0m\u001b[1;33m)\u001b[0m\u001b[1;33m:\u001b[0m\u001b[1;33m\u001b[0m\u001b[1;33m\u001b[0m\u001b[0m\n\u001b[1;32m---> 11\u001b[1;33m         \u001b[0mnet\u001b[0m \u001b[1;33m+=\u001b[0m \u001b[0my\u001b[0m\u001b[1;33m[\u001b[0m\u001b[0mj\u001b[0m\u001b[1;33m]\u001b[0m \u001b[1;33m*\u001b[0m \u001b[0mw\u001b[0m\u001b[1;33m[\u001b[0m\u001b[0mstep\u001b[0m\u001b[1;33m]\u001b[0m\u001b[1;33m[\u001b[0m\u001b[0mj\u001b[0m\u001b[1;33m]\u001b[0m\u001b[1;33m\u001b[0m\u001b[1;33m\u001b[0m\u001b[0m\n\u001b[0m\u001b[0;32m     12\u001b[0m         \u001b[0mprint\u001b[0m\u001b[1;33m(\u001b[0m\u001b[1;34mf\"{j}.net:\"\u001b[0m\u001b[1;33m,\u001b[0m \u001b[0mnet\u001b[0m\u001b[1;33m)\u001b[0m\u001b[1;33m\u001b[0m\u001b[1;33m\u001b[0m\u001b[0m\n\u001b[0;32m     13\u001b[0m \u001b[1;33m\u001b[0m\u001b[0m\n",
      "\u001b[1;31mTypeError\u001b[0m: 'int' object is not subscriptable"
     ]
    }
   ],
   "source": [
    "all_f_net_list = multi_layer(x, w, 1, d, f_k, m, bias=bias)"
   ]
  },
  {
   "cell_type": "code",
   "execution_count": 333,
   "id": "714b5cde-b7a0-42b1-a004-49e09df8b576",
   "metadata": {},
   "outputs": [
    {
     "data": {
      "text/plain": [
       "([0, 0, 1], [-2, -2, 2])"
      ]
     },
     "execution_count": 333,
     "metadata": {},
     "output_type": "execute_result"
    }
   ],
   "source": [
    "all_f_net_list[-1], d[-1]"
   ]
  },
  {
   "cell_type": "code",
   "execution_count": null,
   "id": "5951d948-68b5-40a7-b1e6-9699dc4b15b4",
   "metadata": {},
   "outputs": [],
   "source": [
    "all_f_net_list[-1] == d[-1]"
   ]
  },
  {
   "cell_type": "code",
   "execution_count": null,
   "id": "d2dce01f-0f4d-45ef-89f3-d9c50b051ff4",
   "metadata": {},
   "outputs": [],
   "source": [
    "indexes = []\n",
    "for i in range(len(all_f_net_list)):\n",
    "    print(all_f_net_list[-1][i], d[-1][i])\n",
    "    if all_f_net_list[-1][i] != d[-1][i]:\n",
    "        indexes.append(i)"
   ]
  },
  {
   "cell_type": "code",
   "execution_count": null,
   "id": "b18df0c0-3e8e-4006-9c55-1d1d174cdd57",
   "metadata": {},
   "outputs": [],
   "source": [
    "indexes"
   ]
  },
  {
   "cell_type": "code",
   "execution_count": 192,
   "id": "771e9203-b975-47da-b107-c4f5356a1a14",
   "metadata": {},
   "outputs": [
    {
     "name": "stdout",
     "output_type": "stream",
     "text": [
      "0 -2\n",
      "0 -2\n",
      "1 2\n"
     ]
    }
   ],
   "source": []
  },
  {
   "cell_type": "code",
   "execution_count": 193,
   "id": "cee64175-de85-49e0-b6bf-8608628ef576",
   "metadata": {},
   "outputs": [
    {
     "data": {
      "text/plain": [
       "3"
      ]
     },
     "execution_count": 193,
     "metadata": {},
     "output_type": "execute_result"
    }
   ],
   "source": [
    "sum_val"
   ]
  },
  {
   "cell_type": "code",
   "execution_count": 299,
   "id": "56331eb0-da6f-4994-846d-a9f9dd705155",
   "metadata": {},
   "outputs": [
    {
     "data": {
      "text/plain": [
       "True"
      ]
     },
     "execution_count": 299,
     "metadata": {},
     "output_type": "execute_result"
    }
   ],
   "source": [
    "arr = [[0, 0, 0]]\n",
    "isinstance(arr, list)"
   ]
  },
  {
   "cell_type": "code",
   "execution_count": 301,
   "id": "ae66a41e-d7eb-4e19-8d77-a2592e637ac1",
   "metadata": {},
   "outputs": [
    {
     "data": {
      "text/plain": [
       "True"
      ]
     },
     "execution_count": 301,
     "metadata": {},
     "output_type": "execute_result"
    }
   ],
   "source": [
    "not isinstance(5, list)"
   ]
  },
  {
   "cell_type": "code",
   "execution_count": 51,
   "id": "080099e3-98c8-4c15-a469-8451653c622e",
   "metadata": {},
   "outputs": [
    {
     "data": {
      "text/plain": [
       "[(1, 4), (2, 24), (3, 2), (4, 3)]"
      ]
     },
     "execution_count": 51,
     "metadata": {},
     "output_type": "execute_result"
    }
   ],
   "source": [
    "list(zip([1, 2, 3, 4], [4, 24, 2, 3]))"
   ]
  },
  {
   "cell_type": "code",
   "execution_count": 55,
   "id": "831a647f-be73-4f46-99f5-7faac2993b7f",
   "metadata": {},
   "outputs": [
    {
     "data": {
      "text/plain": [
       "[-3, -22, 1, 1]"
      ]
     },
     "execution_count": 55,
     "metadata": {},
     "output_type": "execute_result"
    }
   ],
   "source": [
    "list(map(lambda x, y: x - y,  [1, 2, 3, 4], [4, 24, 2, 3]))"
   ]
  },
  {
   "cell_type": "code",
   "execution_count": null,
   "id": "d1c2dbe5-7a51-4e2a-8b48-e7231899e844",
   "metadata": {},
   "outputs": [],
   "source": []
  },
  {
   "cell_type": "code",
   "execution_count": null,
   "id": "7bd8fba6-ec28-4723-b81a-310435fb18e7",
   "metadata": {},
   "outputs": [],
   "source": []
  },
  {
   "cell_type": "code",
   "execution_count": null,
   "id": "e435f7ba-2cbb-4941-af66-38a93a78a6e0",
   "metadata": {},
   "outputs": [],
   "source": []
  },
  {
   "cell_type": "code",
   "execution_count": null,
   "id": "7bb42c22-2356-46b2-b868-1dbc9e768b52",
   "metadata": {},
   "outputs": [],
   "source": []
  },
  {
   "cell_type": "code",
   "execution_count": null,
   "id": "1ddbdb0d-37eb-47a6-99ef-eec7e61d2dc3",
   "metadata": {},
   "outputs": [],
   "source": []
  },
  {
   "cell_type": "code",
   "execution_count": null,
   "id": "7dee9036-3f68-408a-a11e-e5e5c5db5bb8",
   "metadata": {},
   "outputs": [],
   "source": []
  },
  {
   "cell_type": "markdown",
   "id": "fdb72967-4cc9-4487-9724-23cd79f38be6",
   "metadata": {},
   "source": [
    "# Multi Layer Project"
   ]
  },
  {
   "cell_type": "code",
   "execution_count": 1,
   "id": "14364b65-3cfe-4134-b45e-e7a373cd86b6",
   "metadata": {},
   "outputs": [],
   "source": [
    "import math"
   ]
  },
  {
   "cell_type": "code",
   "execution_count": 119,
   "id": "c78b27e3-56c9-471d-8766-1632947c0d30",
   "metadata": {},
   "outputs": [],
   "source": [
    "class MultiLayer():\n",
    "    \n",
    "    def __init__(self, weight_input, input_data, weight_output, output_data, learning_rate, bias_input, bias_output):\n",
    "        self.weight_input = weight_input\n",
    "        self.weight_output = weight_output\n",
    "        self.input_data = input_data\n",
    "        self.output_data = output_data\n",
    "        self.learning_rate = learning_rate\n",
    "        self.bias_input = bias_input\n",
    "        self.bias_output = bias_output\n",
    "        self.net = 0\n",
    "        self.relu_net_list = []\n",
    "        self.softmax_net_list = []\n",
    "    \n",
    "    def relu(self, net_list):\n",
    "        self.list_relu = []\n",
    "        for net in net_list:\n",
    "            self.list_relu.append(max(0, net))\n",
    "        return self.list_relu\n",
    "    \n",
    "    def softmax_function(self, net_output):\n",
    "        softmax_net_list = []\n",
    "        sum_values = sum(math.exp(net) for net in net_output)\n",
    "        for value in net_output:\n",
    "            softmax_net_list.append(math.exp(value) / sum_values)\n",
    "        return softmax_net_list\n",
    "        \n",
    "    def output(self, input_values, weight_values, bias_values):\n",
    "        print(\"Output\")\n",
    "        out = 0\n",
    "        self.out_list = []\n",
    "        for weight_index in range(len(weight_values)):\n",
    "            for input_index in range(len(input_values)):\n",
    "                out += input_values[input_index] * weight_values[weight_index][input_index]\n",
    "            out += bias_values[weight_index]\n",
    "            self.out_list.append(out)\n",
    "        return self.out_list\n",
    "    \n",
    "    # net = X.W + B\n",
    "    def feedForward(self):\n",
    "        print(\"Forward\")\n",
    "        for step in range(1):\n",
    "            self.net_list = []\n",
    "            self.relu_net = []\n",
    "            for weight_index in range(len(self.weight_input)):\n",
    "                self.net = 0\n",
    "                for index in range(len(self.input_data)):\n",
    "                    #print(\"weight: \", self.weight[weight_index][index])\n",
    "                    print(self.input_data[index], self.weight_input[weight_index][index])\n",
    "                    self.net += self.input_data[index] * self.weight_input[weight_index][index]\n",
    "                print(\"net\", self.net)\n",
    "                print(self.bias_input[weight_index])\n",
    "                self.net += self.bias_input[weight_index]\n",
    "                print(self.net)\n",
    "                self.net_list.append(self.net)\n",
    "            print(self.net_list)\n",
    "            #self.relu_net.append()\n",
    "            relu_values = self.relu(self.net_list)\n",
    "            print(\"relu function: \", relu_values)\n",
    "            #self.input_data = relu_values\n",
    "        out_list = self.output(relu_values, self.weight_output, self.bias_output)\n",
    "        softmax_list = self.softmax_function(out_list)\n",
    "        print(softmax_list)\n",
    "        #self.softmax_net_list.append(softmax_list)\n",
    "        #self.relu_net_list.append(self.net_list)\n",
    "                \n",
    "    \n",
    "    # Error = 1/n * (target - output)^2\n",
    "    def mean_square_error(self, output_data, softmax_net_list):\n",
    "        sub_list = list(map(lambda d, o: d - o, output_data, softmax_net_list))\n",
    "        return sub_list\n",
    "    \n",
    "    def loss_function(self, error_list):\n",
    "        return 1/2 * sum(map(lambda x: x**2, error_list))\n",
    "    \n",
    "    def multiply_list(self, list1, list2):\n",
    "        multiply_values = []\n",
    "        for value1, value2 in zip(list1, list2):\n",
    "            multiply_values.append(value1 * value2)\n",
    "        return multiply_values\n",
    "        \n",
    "    def control(self, d_list, out_list):\n",
    "        for index in range(len(out_list)):\n",
    "            if round(out_list[index]) != d_list[index]:\n",
    "                yield index\n",
    "        \n",
    "    def backward(self):\n",
    "        error_list = self.mean_square_error(self.output_data[-1], self.softmax_net_list[-1])\n",
    "        error = self.loss_function(error_list)\n",
    "        print(\"Error:\",error)\n",
    "        delta_list = self.multiply_list(error_list, self.softmax_net_list[-1])\n",
    "        new_delta = self.multiply_list(delta_list, self.input_data[-1])\n",
    "        new_weight_values = list(map(lambda x, w: round(w + (self.learning_rate * x), 3), new_delta, self.weight_output[-1]))\n",
    "        indexes = list(self.control(self.output_data[0], self.softmax_net_list[0]))\n",
    "        for index in indexes:\n",
    "            print(new_weight_values[index])\n",
    "            self.weight[-1][index] = new_weight_values[index]\n",
    "        print(\"updated wights:\", self.weight_output)\n",
    "        print(\"-----------------------------------------------------------\")\n",
    "        \n",
    "        # new weight = wt(current) * S(current) * f'(previous)\n",
    "        for step in range(len(self.output_data)-2, -1, -1):\n",
    "            print(\"step: \", step)\n",
    "            error_list = self.mean_square_error(self.output_data[step], self.softmax_net_list[step])\n",
    "            error = self.loss_function(error_list)\n",
    "            print(\"Error:\",error)\n",
    "            softmax_derive_list = self.multiply_list(error_list, self.softmax_net_list[step])\n",
    "\n",
    "            new_values = self.multiply_list(new_delta, softmax_derive_list)\n",
    "            new_delta = self.multiply_list(self.weight[step+1], new_values)\n",
    "            new_weight_values = list(map(lambda x, w, y: round(w + (self.learning_rate * x * y), 3), new_delta, self.weight[step], self.input_data[step]))\n",
    "\n",
    "            weight_index = list(self.control(self.output_data[step], self.softmax_net_list[step]))\n",
    "            for index in indexes:\n",
    "                self.weight[step][index] = new_weight_values[index]\n",
    "            \n",
    "            print(\"updated wights:\", self.weight)\n",
    "            \n",
    "            #self.weight[]\n",
    "            print(\"---------------------------------------\")\n",
    "            return error\n"
   ]
  },
  {
   "cell_type": "code",
   "execution_count": 122,
   "id": "64e49070-b214-4fb6-a6c5-3e64a3159f8a",
   "metadata": {},
   "outputs": [],
   "source": [
    "x =[0.1, 0.50, 0.3]\n",
    "\n",
    "w_input = [[0.4359949 , 0.02592623, 0.54966248],\n",
    "       [0.43532239, 0.4203678 , 0.33033482],\n",
    "       [0.20464863, 0.61927097, 0.29965467],\n",
    "       [0.26682728, 0.62113383, 0.52914209]]\n",
    "\n",
    "w_output = [[0.4, 0.5, 0.6, 0.7],\n",
    "           [0.3, 0.2, 0.1, 0.4]]\n",
    "\n",
    "bias_input = [0.13457995, 0.51357812, 0.18443987, 0.78533515]\n",
    "bias_output = [0.2, -0.1]\n",
    "\n",
    "z = [0, 1, -1]\n",
    "d = [[1],[0]]\n",
    "\n",
    "f_k = 1/2\n",
    "m = 0.1\n",
    "flag = True\n",
    "epochs = 1\n",
    "epoch_count = 0"
   ]
  },
  {
   "cell_type": "code",
   "execution_count": 123,
   "id": "2b033d2e-0a87-4df9-8852-059465a41b7f",
   "metadata": {},
   "outputs": [
    {
     "name": "stdout",
     "output_type": "stream",
     "text": [
      "Forward\n",
      "0.1 0.4359949\n",
      "0.5 0.02592623\n",
      "0.3 0.54966248\n",
      "net 0.22146134899999997\n",
      "0.13457995\n",
      "0.356041299\n",
      "0.1 0.43532239\n",
      "0.5 0.4203678\n",
      "0.3 0.33033482\n",
      "net 0.352816585\n",
      "0.51357812\n",
      "0.866394705\n",
      "0.1 0.20464863\n",
      "0.5 0.61927097\n",
      "0.3 0.29965467\n",
      "net 0.419996749\n",
      "0.18443987\n",
      "0.604436619\n",
      "0.1 0.26682728\n",
      "0.5 0.62113383\n",
      "0.3 0.52914209\n",
      "net 0.49599227\n",
      "0.78533515\n",
      "1.28132742\n",
      "[0.356041299, 0.866394705, 0.604436619, 1.28132742]\n",
      "relu function:  [0.356041299, 0.866394705, 0.604436619, 1.28132742]\n",
      "Output\n",
      "[0.3201536106806332, 0.6798463893193668]\n"
     ]
    },
    {
     "ename": "IndexError",
     "evalue": "list index out of range",
     "output_type": "error",
     "traceback": [
      "\u001b[1;31m---------------------------------------------------------------------------\u001b[0m",
      "\u001b[1;31mIndexError\u001b[0m                                Traceback (most recent call last)",
      "\u001b[1;32m~\\AppData\\Local\\Temp\\ipykernel_11484\\2292876054.py\u001b[0m in \u001b[0;36m<module>\u001b[1;34m\u001b[0m\n\u001b[0;32m      3\u001b[0m \u001b[1;32mwhile\u001b[0m \u001b[0mepoch_count\u001b[0m \u001b[1;33m<\u001b[0m \u001b[0mepochs\u001b[0m\u001b[1;33m:\u001b[0m\u001b[1;33m\u001b[0m\u001b[1;33m\u001b[0m\u001b[0m\n\u001b[0;32m      4\u001b[0m     \u001b[0mmulti_layer\u001b[0m\u001b[1;33m.\u001b[0m\u001b[0mfeedForward\u001b[0m\u001b[1;33m(\u001b[0m\u001b[1;33m)\u001b[0m\u001b[1;33m\u001b[0m\u001b[1;33m\u001b[0m\u001b[0m\n\u001b[1;32m----> 5\u001b[1;33m     \u001b[0merror\u001b[0m \u001b[1;33m=\u001b[0m \u001b[0mmulti_layer\u001b[0m\u001b[1;33m.\u001b[0m\u001b[0mbackward\u001b[0m\u001b[1;33m(\u001b[0m\u001b[1;33m)\u001b[0m\u001b[1;33m\u001b[0m\u001b[1;33m\u001b[0m\u001b[0m\n\u001b[0m\u001b[0;32m      6\u001b[0m     \u001b[0mepoch_count\u001b[0m \u001b[1;33m+=\u001b[0m \u001b[1;36m1\u001b[0m\u001b[1;33m\u001b[0m\u001b[1;33m\u001b[0m\u001b[0m\n",
      "\u001b[1;32m~\\AppData\\Local\\Temp\\ipykernel_11484\\2851464701.py\u001b[0m in \u001b[0;36mbackward\u001b[1;34m(self)\u001b[0m\n\u001b[0;32m     86\u001b[0m \u001b[1;33m\u001b[0m\u001b[0m\n\u001b[0;32m     87\u001b[0m     \u001b[1;32mdef\u001b[0m \u001b[0mbackward\u001b[0m\u001b[1;33m(\u001b[0m\u001b[0mself\u001b[0m\u001b[1;33m)\u001b[0m\u001b[1;33m:\u001b[0m\u001b[1;33m\u001b[0m\u001b[1;33m\u001b[0m\u001b[0m\n\u001b[1;32m---> 88\u001b[1;33m         \u001b[0merror_list\u001b[0m \u001b[1;33m=\u001b[0m \u001b[0mself\u001b[0m\u001b[1;33m.\u001b[0m\u001b[0mmean_square_error\u001b[0m\u001b[1;33m(\u001b[0m\u001b[0mself\u001b[0m\u001b[1;33m.\u001b[0m\u001b[0moutput_data\u001b[0m\u001b[1;33m[\u001b[0m\u001b[1;33m-\u001b[0m\u001b[1;36m1\u001b[0m\u001b[1;33m]\u001b[0m\u001b[1;33m,\u001b[0m \u001b[0mself\u001b[0m\u001b[1;33m.\u001b[0m\u001b[0msoftmax_net_list\u001b[0m\u001b[1;33m[\u001b[0m\u001b[1;33m-\u001b[0m\u001b[1;36m1\u001b[0m\u001b[1;33m]\u001b[0m\u001b[1;33m)\u001b[0m\u001b[1;33m\u001b[0m\u001b[1;33m\u001b[0m\u001b[0m\n\u001b[0m\u001b[0;32m     89\u001b[0m         \u001b[0merror\u001b[0m \u001b[1;33m=\u001b[0m \u001b[0mself\u001b[0m\u001b[1;33m.\u001b[0m\u001b[0mloss_function\u001b[0m\u001b[1;33m(\u001b[0m\u001b[0merror_list\u001b[0m\u001b[1;33m)\u001b[0m\u001b[1;33m\u001b[0m\u001b[1;33m\u001b[0m\u001b[0m\n\u001b[0;32m     90\u001b[0m         \u001b[0mprint\u001b[0m\u001b[1;33m(\u001b[0m\u001b[1;34m\"Error:\"\u001b[0m\u001b[1;33m,\u001b[0m\u001b[0merror\u001b[0m\u001b[1;33m)\u001b[0m\u001b[1;33m\u001b[0m\u001b[1;33m\u001b[0m\u001b[0m\n",
      "\u001b[1;31mIndexError\u001b[0m: list index out of range"
     ]
    }
   ],
   "source": [
    "multi_layer = MultiLayer(w_input, x, w_output, d, m, bias_input, bias_output)\n",
    "error = 1\n",
    "while epoch_count < epochs:\n",
    "    multi_layer.feedForward()\n",
    "    error = multi_layer.backward()\n",
    "    epoch_count += 1"
   ]
  },
  {
   "cell_type": "code",
   "execution_count": null,
   "id": "ab389e27-c9d1-4d50-9dbb-d53cf6dc64c1",
   "metadata": {},
   "outputs": [],
   "source": []
  },
  {
   "cell_type": "code",
   "execution_count": 102,
   "id": "e72e5ed9-d0e2-4cd9-8da8-6a6d36648e8f",
   "metadata": {},
   "outputs": [],
   "source": [
    "import numpy as np"
   ]
  },
  {
   "cell_type": "code",
   "execution_count": 49,
   "id": "6cb7ff94-4466-459c-9e59-76669c9b780c",
   "metadata": {},
   "outputs": [
    {
     "data": {
      "text/plain": [
       "array([[0.04359949, 0.04353224, 0.02046486, 0.02668273],\n",
       "       [0.21799745, 0.2176612 , 0.10232431, 0.13341364],\n",
       "       [0.13079847, 0.13059672, 0.06139459, 0.08004818]])"
      ]
     },
     "execution_count": 49,
     "metadata": {},
     "output_type": "execute_result"
    }
   ],
   "source": [
    "np.array([0.4359949 , 0.43532239, 0.20464863, 0.26682728])  *  np.array([[0.1], [0.50], [0.3]])"
   ]
  },
  {
   "cell_type": "code",
   "execution_count": null,
   "id": "c6ab4da4-1e78-4473-bceb-07fcc9ab6439",
   "metadata": {},
   "outputs": [],
   "source": []
  },
  {
   "cell_type": "code",
   "execution_count": null,
   "id": "704e025d-f0b4-43fb-8de6-5966678e9c6b",
   "metadata": {},
   "outputs": [],
   "source": []
  },
  {
   "cell_type": "code",
   "execution_count": null,
   "id": "6707f9a8-2e42-439b-82dd-dc947048ea7b",
   "metadata": {},
   "outputs": [],
   "source": []
  },
  {
   "cell_type": "code",
   "execution_count": null,
   "id": "01d0d120-dd96-49f8-8dfa-2a894883db51",
   "metadata": {},
   "outputs": [],
   "source": []
  },
  {
   "cell_type": "code",
   "execution_count": null,
   "id": "5c645580-8bcf-4c6c-860a-6d39c8bb212c",
   "metadata": {},
   "outputs": [],
   "source": []
  },
  {
   "cell_type": "code",
   "execution_count": null,
   "id": "e90fb2c3-87a9-4ff2-b50b-6b29e750b8cf",
   "metadata": {},
   "outputs": [],
   "source": []
  },
  {
   "cell_type": "code",
   "execution_count": null,
   "id": "f05302c8-1c9c-4f8a-9b0c-ac1f3ab4dd35",
   "metadata": {},
   "outputs": [],
   "source": []
  },
  {
   "cell_type": "code",
   "execution_count": null,
   "id": "9e281989-243d-4420-8dd9-a5aa7684fae2",
   "metadata": {},
   "outputs": [],
   "source": []
  },
  {
   "cell_type": "code",
   "execution_count": null,
   "id": "408094de-7428-4c16-b01a-745b4e22ca83",
   "metadata": {},
   "outputs": [],
   "source": []
  },
  {
   "cell_type": "code",
   "execution_count": null,
   "id": "43f514d9-91c3-4d6d-9eb3-d7b615ec1ad5",
   "metadata": {},
   "outputs": [],
   "source": []
  },
  {
   "cell_type": "code",
   "execution_count": null,
   "id": "d6eb3a51-f999-47de-a547-2bc09c7eaddd",
   "metadata": {},
   "outputs": [],
   "source": []
  },
  {
   "cell_type": "code",
   "execution_count": null,
   "id": "7ca1b432-69b2-4576-bd11-70b910854310",
   "metadata": {},
   "outputs": [],
   "source": []
  },
  {
   "cell_type": "code",
   "execution_count": null,
   "id": "b81839da-b5d3-4e69-b624-7bfa210ee4d9",
   "metadata": {},
   "outputs": [],
   "source": []
  },
  {
   "cell_type": "code",
   "execution_count": null,
   "id": "b0a782da-f8f0-496b-b215-01cde9fe6433",
   "metadata": {},
   "outputs": [],
   "source": []
  },
  {
   "cell_type": "code",
   "execution_count": null,
   "id": "a92b6465-408a-4fd5-af7c-2d65d7a0af9e",
   "metadata": {},
   "outputs": [],
   "source": []
  },
  {
   "cell_type": "code",
   "execution_count": null,
   "id": "023fac2b-5253-4f3d-aa30-3b855088cd36",
   "metadata": {},
   "outputs": [],
   "source": []
  },
  {
   "cell_type": "code",
   "execution_count": null,
   "id": "46f4c02b-de46-4243-9761-dd1a612e4f8a",
   "metadata": {},
   "outputs": [],
   "source": []
  },
  {
   "cell_type": "code",
   "execution_count": null,
   "id": "b5279b5c-7ee0-4b84-8bf8-11b176ac8cd2",
   "metadata": {},
   "outputs": [],
   "source": []
  },
  {
   "cell_type": "code",
   "execution_count": null,
   "id": "2bf21380-d604-4f19-a681-be97157682e8",
   "metadata": {},
   "outputs": [],
   "source": []
  },
  {
   "cell_type": "code",
   "execution_count": null,
   "id": "820c8967-215e-4c28-8f23-7987ffcdddbc",
   "metadata": {},
   "outputs": [],
   "source": []
  },
  {
   "cell_type": "code",
   "execution_count": null,
   "id": "82d696a5-1bbf-43d7-b315-ce3ce4be137a",
   "metadata": {},
   "outputs": [],
   "source": []
  },
  {
   "cell_type": "code",
   "execution_count": null,
   "id": "ea57f16b-3025-44c3-bfbe-41db1ddf79f9",
   "metadata": {},
   "outputs": [],
   "source": []
  },
  {
   "cell_type": "code",
   "execution_count": null,
   "id": "00191275-828f-45a3-98b1-1b20b391b0ff",
   "metadata": {},
   "outputs": [],
   "source": []
  },
  {
   "cell_type": "code",
   "execution_count": null,
   "id": "e70e1e69-d1dc-465f-9b44-fbbb0b951a9a",
   "metadata": {},
   "outputs": [],
   "source": []
  },
  {
   "cell_type": "code",
   "execution_count": null,
   "id": "9050fc63-e2a3-4b54-a746-1af2499142d2",
   "metadata": {},
   "outputs": [],
   "source": []
  },
  {
   "cell_type": "code",
   "execution_count": null,
   "id": "3ea7a77f-588b-43b1-99bd-c7d3bf96329e",
   "metadata": {},
   "outputs": [],
   "source": []
  },
  {
   "cell_type": "code",
   "execution_count": null,
   "id": "c3ac2de7-dec9-41c9-8186-77bb36d3667f",
   "metadata": {},
   "outputs": [],
   "source": []
  },
  {
   "cell_type": "code",
   "execution_count": null,
   "id": "938bcc8b-018a-4031-87b0-d1436feed7e6",
   "metadata": {},
   "outputs": [],
   "source": []
  },
  {
   "cell_type": "code",
   "execution_count": null,
   "id": "eed1fbe8-309c-4856-8599-f0e97d8291a5",
   "metadata": {},
   "outputs": [],
   "source": []
  },
  {
   "cell_type": "code",
   "execution_count": null,
   "id": "49afcea0-4cca-40ef-b458-c1a2e2dcec5c",
   "metadata": {},
   "outputs": [],
   "source": []
  },
  {
   "cell_type": "code",
   "execution_count": null,
   "id": "df2ad31e-93a9-4699-8a07-a77b6a1661df",
   "metadata": {},
   "outputs": [],
   "source": [
    "import numpy as np\n",
    "import matplotlib.pyplot as plt\n",
    "\n",
    "X1 = np.linspace(-10, 10, 100)\n",
    "\n",
    "colors = [\"blue\", \"red\"]\n",
    "\n",
    "plt.figure(figsize=(8, 6))\n",
    "for i in range(len(v)):\n",
    "    X2 = calculate_eksen(X1, v[i])\n",
    "    plt.plot(X1, X2, label=f\"{v[i][0]}X1 + {v[i][1]}X2 + {v[i][2]} = 0\", color=colors[i])\n",
    "plt.xlabel(\"X1\")\n",
    "plt.ylabel(\"X2\")\n",
    "plt.axhline(0, color='black',linewidth=0.5)\n",
    "plt.axvline(0, color='black',linewidth=0.5)\n",
    "plt.grid(color = 'gray', linestyle = '--', linewidth = 0.5)\n",
    "plt.legend()\n",
    "plt.title(\"5X1 + 3X2 - 5 Doğrusu\")\n",
    "plt.show()\n"
   ]
  },
  {
   "cell_type": "code",
   "execution_count": null,
   "id": "8f097c6b-8ae2-40f9-8ec6-03688e5a8ffb",
   "metadata": {},
   "outputs": [],
   "source": []
  },
  {
   "cell_type": "code",
   "execution_count": null,
   "id": "35a66853-f3fb-4f03-9b1d-2a419c3a870c",
   "metadata": {},
   "outputs": [],
   "source": []
  },
  {
   "cell_type": "code",
   "execution_count": null,
   "id": "ec4295a9-791b-4ff0-bb2b-c80ff69b08db",
   "metadata": {},
   "outputs": [],
   "source": []
  },
  {
   "cell_type": "code",
   "execution_count": null,
   "id": "6d5d335d-7ce4-47de-849e-8051365c8c7b",
   "metadata": {},
   "outputs": [],
   "source": []
  },
  {
   "cell_type": "code",
   "execution_count": null,
   "id": "9a09d7d4-4194-4a05-ab2d-2b59b3262323",
   "metadata": {},
   "outputs": [],
   "source": []
  },
  {
   "cell_type": "code",
   "execution_count": null,
   "id": "e1764273-d082-44e9-8e83-8b528f6c6f89",
   "metadata": {},
   "outputs": [],
   "source": []
  },
  {
   "cell_type": "code",
   "execution_count": null,
   "id": "4a4dc253-0410-4562-a369-45337419d3cd",
   "metadata": {},
   "outputs": [],
   "source": []
  },
  {
   "cell_type": "code",
   "execution_count": null,
   "id": "9f546f11-38e7-4148-99d4-3c1cf7f6eb02",
   "metadata": {},
   "outputs": [],
   "source": []
  },
  {
   "cell_type": "code",
   "execution_count": null,
   "id": "3afdcb08-836d-4e5f-b2f2-11f6052c2ad1",
   "metadata": {},
   "outputs": [],
   "source": []
  },
  {
   "cell_type": "code",
   "execution_count": null,
   "id": "357ca04d-182f-4ff6-adc5-5c876d668554",
   "metadata": {},
   "outputs": [],
   "source": [
    "def change_name(func):\n",
    "    def wrapper(*args, **kwargs):\n",
    "        print(\"befor call the function\")\n",
    "        result = func(*args, **kwargs).upper()\n",
    "        print(\"After call the function\")\n",
    "        return result\n",
    "    return wrapper"
   ]
  },
  {
   "cell_type": "code",
   "execution_count": null,
   "id": "a66c9006-b721-4067-a4dc-97cec64560c9",
   "metadata": {},
   "outputs": [],
   "source": [
    "@change_name\n",
    "def user_name(name):\n",
    "    return name"
   ]
  },
  {
   "cell_type": "code",
   "execution_count": null,
   "id": "2b7c3245-77a9-43dc-b714-5934d27894ad",
   "metadata": {},
   "outputs": [],
   "source": [
    "print(user_name(\"Ahmet\"))"
   ]
  },
  {
   "cell_type": "code",
   "execution_count": null,
   "id": "8196e500-ce74-4dfd-8ee9-a4f538e47c66",
   "metadata": {},
   "outputs": [],
   "source": []
  },
  {
   "cell_type": "code",
   "execution_count": null,
   "id": "1b59f9cd-b215-4146-a5a6-33e4436b09b0",
   "metadata": {},
   "outputs": [],
   "source": []
  },
  {
   "cell_type": "code",
   "execution_count": null,
   "id": "7cac3c75-a1b6-4ac1-ab04-1796f7d5168c",
   "metadata": {},
   "outputs": [],
   "source": []
  },
  {
   "cell_type": "code",
   "execution_count": null,
   "id": "28ed693a-7aea-435b-8a46-11a06c59e60b",
   "metadata": {},
   "outputs": [],
   "source": []
  },
  {
   "cell_type": "code",
   "execution_count": null,
   "id": "51ced583-aa11-473c-9557-bc648d4abe6a",
   "metadata": {},
   "outputs": [],
   "source": []
  },
  {
   "cell_type": "code",
   "execution_count": null,
   "id": "43f0cf0c-80ee-4c45-ac0d-fbaaf2360c28",
   "metadata": {},
   "outputs": [],
   "source": []
  },
  {
   "cell_type": "code",
   "execution_count": null,
   "id": "3ca15182-36f5-4cde-b096-436fbd6363e0",
   "metadata": {},
   "outputs": [],
   "source": []
  },
  {
   "cell_type": "code",
   "execution_count": null,
   "id": "42e488d6-2d31-4138-82f9-11a702fd7bb9",
   "metadata": {},
   "outputs": [],
   "source": []
  },
  {
   "cell_type": "code",
   "execution_count": null,
   "id": "529909bb-4135-4470-9f63-893a1ca21d74",
   "metadata": {},
   "outputs": [],
   "source": []
  },
  {
   "cell_type": "code",
   "execution_count": null,
   "id": "20347a9b-aeb2-4297-9825-329edf566be8",
   "metadata": {},
   "outputs": [],
   "source": []
  },
  {
   "cell_type": "code",
   "execution_count": null,
   "id": "1487a3a5-cb76-4079-b381-4248a613b9f3",
   "metadata": {},
   "outputs": [],
   "source": []
  },
  {
   "cell_type": "code",
   "execution_count": null,
   "id": "1571abe7-c6a3-4521-80ae-7a37d9fe7aee",
   "metadata": {},
   "outputs": [],
   "source": []
  },
  {
   "cell_type": "code",
   "execution_count": null,
   "id": "a24a3288-9eaf-48e2-a15f-864306f69a3e",
   "metadata": {},
   "outputs": [],
   "source": []
  },
  {
   "cell_type": "code",
   "execution_count": null,
   "id": "9cbbb596-614b-47a8-845c-03a6abcee339",
   "metadata": {},
   "outputs": [],
   "source": []
  },
  {
   "cell_type": "code",
   "execution_count": null,
   "id": "35cd93d7-5243-4b22-8070-ad529260cfb8",
   "metadata": {},
   "outputs": [],
   "source": []
  },
  {
   "cell_type": "code",
   "execution_count": null,
   "id": "cb0f3b04-526b-4305-bd13-69ab311da378",
   "metadata": {},
   "outputs": [],
   "source": []
  },
  {
   "cell_type": "code",
   "execution_count": null,
   "id": "e1aae623-9c88-402b-882f-c974503c92a6",
   "metadata": {},
   "outputs": [],
   "source": []
  },
  {
   "cell_type": "code",
   "execution_count": null,
   "id": "ede9a174-573b-4269-9b99-cd9f0c6a2734",
   "metadata": {},
   "outputs": [],
   "source": []
  },
  {
   "cell_type": "code",
   "execution_count": null,
   "id": "0e864f51-99c4-4474-aac1-db90bd5b8a2b",
   "metadata": {},
   "outputs": [],
   "source": []
  },
  {
   "cell_type": "code",
   "execution_count": null,
   "id": "1d7b28f3-8cd5-48f9-90a3-6d473308ab96",
   "metadata": {},
   "outputs": [],
   "source": []
  },
  {
   "cell_type": "code",
   "execution_count": null,
   "id": "3c705f1c-68d7-4c74-8409-2a769561e359",
   "metadata": {},
   "outputs": [],
   "source": []
  },
  {
   "cell_type": "code",
   "execution_count": null,
   "id": "68e37791-7006-41f0-aaee-19355c06f38d",
   "metadata": {},
   "outputs": [],
   "source": []
  },
  {
   "cell_type": "code",
   "execution_count": null,
   "id": "2f8a4429-9a3b-41f0-9194-b946074e55d0",
   "metadata": {},
   "outputs": [],
   "source": []
  },
  {
   "cell_type": "code",
   "execution_count": null,
   "id": "29dd17db-a15a-4853-9ae2-835554051d10",
   "metadata": {},
   "outputs": [],
   "source": []
  },
  {
   "cell_type": "code",
   "execution_count": null,
   "id": "16279e3b-cd47-4f8a-80fa-7e3e3603f9d8",
   "metadata": {},
   "outputs": [],
   "source": []
  },
  {
   "cell_type": "code",
   "execution_count": null,
   "id": "8d417055-7c57-401c-b3f7-1be9c4c418bd",
   "metadata": {},
   "outputs": [],
   "source": []
  },
  {
   "cell_type": "code",
   "execution_count": null,
   "id": "dd0e7a4f-788a-412c-838b-bba0acbaa735",
   "metadata": {},
   "outputs": [],
   "source": []
  },
  {
   "cell_type": "code",
   "execution_count": null,
   "id": "23b0c8d6-a121-4db4-9de8-efc68e1e3801",
   "metadata": {},
   "outputs": [],
   "source": []
  },
  {
   "cell_type": "code",
   "execution_count": null,
   "id": "2838d5bc-aee0-4773-99ca-923b24edfb59",
   "metadata": {},
   "outputs": [],
   "source": []
  },
  {
   "cell_type": "code",
   "execution_count": null,
   "id": "718b8f10-4a31-475f-b8ec-b41c18277d8d",
   "metadata": {},
   "outputs": [],
   "source": []
  },
  {
   "cell_type": "code",
   "execution_count": null,
   "id": "2830ef91-3dcd-45d3-a7c1-a51f1b43ac47",
   "metadata": {},
   "outputs": [],
   "source": []
  },
  {
   "cell_type": "code",
   "execution_count": null,
   "id": "0bc1a5fb-78d1-4aee-8bec-12853b7ae990",
   "metadata": {},
   "outputs": [],
   "source": []
  },
  {
   "cell_type": "code",
   "execution_count": null,
   "id": "7bd6cab9-b30c-4023-bc37-a4b1cb6d3ec8",
   "metadata": {},
   "outputs": [],
   "source": []
  },
  {
   "cell_type": "code",
   "execution_count": null,
   "id": "20b04303-e2b4-44eb-9c94-86995e5a89b5",
   "metadata": {},
   "outputs": [],
   "source": []
  },
  {
   "cell_type": "code",
   "execution_count": null,
   "id": "4f0332b3-facf-4a4b-bc4d-f49054b0a7bf",
   "metadata": {},
   "outputs": [],
   "source": []
  },
  {
   "cell_type": "code",
   "execution_count": null,
   "id": "d941bbd4-c4f8-4825-b425-39d7a444bacc",
   "metadata": {},
   "outputs": [],
   "source": []
  },
  {
   "cell_type": "code",
   "execution_count": null,
   "id": "bc1f6483-b0ad-4415-8ca7-92765d9295d4",
   "metadata": {},
   "outputs": [],
   "source": []
  },
  {
   "cell_type": "code",
   "execution_count": null,
   "id": "3359c5eb-fcb9-48b3-80f1-7c2b1f991a7b",
   "metadata": {},
   "outputs": [],
   "source": []
  },
  {
   "cell_type": "code",
   "execution_count": null,
   "id": "17920508-8ad3-420e-acf4-f7e693c355d8",
   "metadata": {},
   "outputs": [],
   "source": []
  },
  {
   "cell_type": "code",
   "execution_count": null,
   "id": "1da55c29-e563-459e-bb60-ba13dda7a276",
   "metadata": {},
   "outputs": [],
   "source": []
  },
  {
   "cell_type": "code",
   "execution_count": null,
   "id": "7c33f6fd-8286-48ed-806b-8f83de344a0d",
   "metadata": {},
   "outputs": [],
   "source": []
  },
  {
   "cell_type": "code",
   "execution_count": null,
   "id": "aa705c7a-67f1-4fc2-b373-1ad747c6a964",
   "metadata": {},
   "outputs": [],
   "source": []
  },
  {
   "cell_type": "code",
   "execution_count": null,
   "id": "a6a48de8-680d-453b-b4fc-e63eda8687f6",
   "metadata": {},
   "outputs": [],
   "source": []
  },
  {
   "cell_type": "code",
   "execution_count": null,
   "id": "6f7e4b10-45dd-465c-8efb-c060c535c173",
   "metadata": {},
   "outputs": [],
   "source": [
    "import math\n",
    "\n",
    "# Sigmoid aktivasyon fonksiyonu\n",
    "def sigmoid(x):\n",
    "    return 1 / (1 + math.exp(-x))\n",
    "\n",
    "# Ağ yapısını tanımlama\n",
    "class SimpleFeedForwardNN:\n",
    "    def __init__(self, input_size, hidden_size, output_size):\n",
    "        # Ağırlıkları rastgele başlatıyoruz\n",
    "        self.weights_input_hidden = [[0.5 for _ in range(hidden_size)] for _ in range(input_size)]\n",
    "        self.weights_hidden_output = [[0.5 for _ in range(output_size)] for _ in range(hidden_size)]\n",
    "        \n",
    "        print(self.weights_input_hidden)\n",
    "        # Biasları rastgele başlatıyoruz\n",
    "        self.bias_hidden = [0.5 for _ in range(hidden_size)]\n",
    "        self.bias_output = [0.5 for _ in range(output_size)]\n",
    "\n",
    "    def feedforward(self, inputs):\n",
    "        # Gizli katman için çıktı hesaplama\n",
    "        hidden_layer_output = []\n",
    "        for i in range(len(self.weights_input_hidden[0])):  # hidden_size kadar\n",
    "            activation = self.bias_hidden[i]\n",
    "            for j in range(len(inputs)):  # input_size kadar\n",
    "                print(\"weight\", self.weights_input_hidden[j][i])\n",
    "                print(\"input\", inputs[j])\n",
    "                \n",
    "                activation += inputs[j] * self.weights_input_hidden[j][i]\n",
    "            print(activation)\n",
    "            hidden_layer_output.append(sigmoid(activation))\n",
    "            print(\"hidden layer output: \", hidden_layer_output)\n",
    "            print(\"-----------------------------------------------------------\")\n",
    "        \n",
    "        # Çıkış katmanı için çıktı hesaplama\n",
    "        output_layer_output = []\n",
    "        for i in range(len(self.weights_hidden_output[0])):  # output_size kadar\n",
    "            activation = self.bias_output[i]\n",
    "            for j in range(len(hidden_layer_output)):  # hidden_size kadar\n",
    "                activation += hidden_layer_output[j] * self.weights_hidden_output[j][i]\n",
    "            print(\"output activation: \", activation)\n",
    "            output_layer_output.append(sigmoid(activation))\n",
    "        \n",
    "        return output_layer_output\n",
    "\n",
    "# Ağ oluşturma\n",
    "input_size = 3  # Giriş nöron sayısı\n",
    "hidden_size = 4  # Gizli katman nöron sayısı\n",
    "output_size = 2  # Çıkış nöron sayısı\n",
    "\n",
    "# Ağımızı tanımlıyoruz\n",
    "network = SimpleFeedForwardNN(input_size, hidden_size, output_size)\n",
    "\n",
    "# Giriş verisi\n",
    "inputs = [1.0, 0.5, -1.5]\n",
    "\n",
    "# İleri besleme işlemi\n",
    "output = network.feedforward(inputs)\n",
    "\n",
    "# Çıktıyı ekrana yazdırma\n",
    "print(\"Çıktı:\", output)\n"
   ]
  },
  {
   "cell_type": "code",
   "execution_count": null,
   "id": "668b82f8-fdeb-4b46-8c62-bfbc5c44aa46",
   "metadata": {},
   "outputs": [],
   "source": []
  },
  {
   "cell_type": "code",
   "execution_count": null,
   "id": "8b6a05f6-7cc6-45c8-aebb-d3bf85d78984",
   "metadata": {},
   "outputs": [],
   "source": []
  },
  {
   "cell_type": "code",
   "execution_count": null,
   "id": "b6b23a0c-852f-452c-bd82-7c42fe47ad4b",
   "metadata": {},
   "outputs": [],
   "source": []
  },
  {
   "cell_type": "code",
   "execution_count": null,
   "id": "ffd290a4-5920-4975-aa12-49dd935410b3",
   "metadata": {},
   "outputs": [],
   "source": []
  }
 ],
 "metadata": {
  "kernelspec": {
   "display_name": "dataScience",
   "language": "python",
   "name": "datascience"
  },
  "language_info": {
   "codemirror_mode": {
    "name": "ipython",
    "version": 3
   },
   "file_extension": ".py",
   "mimetype": "text/x-python",
   "name": "python",
   "nbconvert_exporter": "python",
   "pygments_lexer": "ipython3",
   "version": "3.7.9"
  }
 },
 "nbformat": 4,
 "nbformat_minor": 5
}
